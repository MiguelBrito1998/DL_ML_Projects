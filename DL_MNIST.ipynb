{
 "cells": [
  {
   "cell_type": "code",
   "execution_count": null,
   "metadata": {
    "id": "sWGhmM0CRrXl"
   },
   "outputs": [],
   "source": [
    "import numpy as np\n",
    "import matplotlib.pyplot as plt\n",
    "import seaborn as sns\n",
    "import cv2\n",
    "from google.colab.patches import cv2_imshow\n",
    "from PIL import Image\n",
    "import tensorflow as tf\n",
    "tf.random.set_seed(3)\n",
    "from tensorflow import keras\n",
    "from keras.datasets import mnist\n",
    "from tensorflow.math import confusion_matrix"
   ]
  },
  {
   "cell_type": "code",
   "execution_count": null,
   "metadata": {
    "colab": {
     "base_uri": "https://localhost:8080/"
    },
    "id": "0qRVnCrWSFnP",
    "outputId": "bf794196-8ee2-49a0-ad23-613e44e3cfa9"
   },
   "outputs": [
    {
     "name": "stdout",
     "output_type": "stream",
     "text": [
      "Downloading data from https://storage.googleapis.com/tensorflow/tf-keras-datasets/mnist.npz\n",
      "11490434/11490434 [==============================] - 2s 0us/step\n"
     ]
    }
   ],
   "source": [
    "#cargando los datos de datast mnist\n",
    "(X_train,Y_train),(X_test,Y_test)=mnist.load_data()"
   ]
  },
  {
   "cell_type": "code",
   "execution_count": null,
   "metadata": {
    "colab": {
     "base_uri": "https://localhost:8080/"
    },
    "id": "f0APLtd9UZLg",
    "outputId": "2acf94b0-161c-40f7-8a66-30e97c717db2"
   },
   "outputs": [
    {
     "name": "stdout",
     "output_type": "stream",
     "text": [
      "((60000, 28, 28), (60000,), (10000, 28, 28), (10000,))\n"
     ]
    }
   ],
   "source": [
    "#shaoe of the numpy arays\n",
    "print((X_train.shape,Y_train.shape,X_test.shape,Y_test.shape))"
   ]
  },
  {
   "cell_type": "code",
   "execution_count": null,
   "metadata": {
    "id": "1TknozVuUjuV"
   },
   "outputs": [],
   "source": [
    "#Datos de entrenamiento=60000 imagenes\n",
    "#Datos de prueba=10000 imagenes\n",
    "#dimension de las imagenes 28x28\n",
    "#Con un canal que significa que la imagene es a blanco y negro\n"
   ]
  },
  {
   "cell_type": "code",
   "execution_count": null,
   "metadata": {
    "colab": {
     "base_uri": "https://localhost:8080/"
    },
    "id": "5dsLzmAgVXqM",
    "outputId": "b2f35e8f-7aa1-4839-a69e-1d154ee10102"
   },
   "outputs": [
    {
     "name": "stdout",
     "output_type": "stream",
     "text": [
      "[[  0   0   0   0   0   0   0   0   0   0   0   0   0   0   0   0   0   0\n",
      "    0   0   0   0   0   0   0   0   0   0]\n",
      " [  0   0   0   0   0   0   0   0   0   0   0   0   0   0   0   0   0   0\n",
      "    0   0   0   0   0   0   0   0   0   0]\n",
      " [  0   0   0   0   0   0   0   0   0   0   0   0   0   0   0   0   0   0\n",
      "    0   0   0   0   0   0   0   0   0   0]\n",
      " [  0   0   0   0   0   0   0   0   0   0   0   0   0   0   0   0   0   0\n",
      "    0   0   0   0   0   0   0   0   0   0]\n",
      " [  0   0   0   0   0   0   0   0   0   0   0  42 118 219 166 118 118   6\n",
      "    0   0   0   0   0   0   0   0   0   0]\n",
      " [  0   0   0   0   0   0   0   0   0   0 103 242 254 254 254 254 254  66\n",
      "    0   0   0   0   0   0   0   0   0   0]\n",
      " [  0   0   0   0   0   0   0   0   0   0  18 232 254 254 254 254 254 238\n",
      "   70   0   0   0   0   0   0   0   0   0]\n",
      " [  0   0   0   0   0   0   0   0   0   0   0 104 244 254 224 254 254 254\n",
      "  141   0   0   0   0   0   0   0   0   0]\n",
      " [  0   0   0   0   0   0   0   0   0   0   0   0 207 254 210 254 254 254\n",
      "   34   0   0   0   0   0   0   0   0   0]\n",
      " [  0   0   0   0   0   0   0   0   0   0   0   0  84 206 254 254 254 254\n",
      "   41   0   0   0   0   0   0   0   0   0]\n",
      " [  0   0   0   0   0   0   0   0   0   0   0   0   0  24 209 254 254 254\n",
      "  171   0   0   0   0   0   0   0   0   0]\n",
      " [  0   0   0   0   0   0   0   0   0   0   0   0  91 137 253 254 254 254\n",
      "  112   0   0   0   0   0   0   0   0   0]\n",
      " [  0   0   0   0   0   0   0   0   0   0  40 214 250 254 254 254 254 254\n",
      "   34   0   0   0   0   0   0   0   0   0]\n",
      " [  0   0   0   0   0   0   0   0   0   0  81 247 254 254 254 254 254 254\n",
      "  146   0   0   0   0   0   0   0   0   0]\n",
      " [  0   0   0   0   0   0   0   0   0   0   0 110 246 254 254 254 254 254\n",
      "  171   0   0   0   0   0   0   0   0   0]\n",
      " [  0   0   0   0   0   0   0   0   0   0   0   0  73  89  89  93 240 254\n",
      "  171   0   0   0   0   0   0   0   0   0]\n",
      " [  0   0   0   0   0   0   0   0   0   0   0   0   0   0   0   1 128 254\n",
      "  219  31   0   0   0   0   0   0   0   0]\n",
      " [  0   0   0   0   0   0   0   0   0   0   0   0   0   0   0   7 254 254\n",
      "  214  28   0   0   0   0   0   0   0   0]\n",
      " [  0   0   0   0   0   0   0   0   0   0   0   0   0   0   0 138 254 254\n",
      "  116   0   0   0   0   0   0   0   0   0]\n",
      " [  0   0   0   0   0   0  19 177  90   0   0   0   0   0  25 240 254 254\n",
      "   34   0   0   0   0   0   0   0   0   0]\n",
      " [  0   0   0   0   0   0 164 254 215  63  36   0  51  89 206 254 254 139\n",
      "    8   0   0   0   0   0   0   0   0   0]\n",
      " [  0   0   0   0   0   0  57 197 254 254 222 180 241 254 254 253 213  11\n",
      "    0   0   0   0   0   0   0   0   0   0]\n",
      " [  0   0   0   0   0   0   0 140 105 254 254 254 254 254 254 236   0   0\n",
      "    0   0   0   0   0   0   0   0   0   0]\n",
      " [  0   0   0   0   0   0   0   0   7 117 117 165 254 254 239  50   0   0\n",
      "    0   0   0   0   0   0   0   0   0   0]\n",
      " [  0   0   0   0   0   0   0   0   0   0   0   0   0   0   0   0   0   0\n",
      "    0   0   0   0   0   0   0   0   0   0]\n",
      " [  0   0   0   0   0   0   0   0   0   0   0   0   0   0   0   0   0   0\n",
      "    0   0   0   0   0   0   0   0   0   0]\n",
      " [  0   0   0   0   0   0   0   0   0   0   0   0   0   0   0   0   0   0\n",
      "    0   0   0   0   0   0   0   0   0   0]\n",
      " [  0   0   0   0   0   0   0   0   0   0   0   0   0   0   0   0   0   0\n",
      "    0   0   0   0   0   0   0   0   0   0]]\n"
     ]
    }
   ],
   "source": [
    "#imprimiendo la decima imagen\n",
    "print(X_train[10])"
   ]
  },
  {
   "cell_type": "code",
   "execution_count": null,
   "metadata": {
    "colab": {
     "base_uri": "https://localhost:8080/",
     "height": 448
    },
    "id": "LukqxMKqVcch",
    "outputId": "28828080-79a8-4504-922b-9360c4403387"
   },
   "outputs": [
    {
     "data": {
      "image/png": "[encoded data removed]",
      "text/plain": [
       "<Figure size 640x480 with 1 Axes>"
      ]
     },
     "metadata": {},
     "output_type": "display_data"
    },
    {
     "name": "stdout",
     "output_type": "stream",
     "text": [
      "2\n"
     ]
    }
   ],
   "source": [
    "#mostrando la imagen\n",
    "plt.imshow(X_train[25], cmap='gray')\n",
    "plt.show()\n",
    "\n",
    "#print the corresponding label\n",
    "\n",
    "print(Y_train[25])\n"
   ]
  },
  {
   "cell_type": "code",
   "execution_count": null,
   "metadata": {
    "id": "33laHBW4V6Cr"
   },
   "outputs": [],
   "source": [
    "#Image labels"
   ]
  },
  {
   "cell_type": "code",
   "execution_count": null,
   "metadata": {
    "colab": {
     "base_uri": "https://localhost:8080/"
    },
    "id": "U9S3DGl0WEAw",
    "outputId": "3ceaa439-980e-4b42-da8f-493bf10be634"
   },
   "outputs": [
    {
     "name": "stdout",
     "output_type": "stream",
     "text": [
      "[0 1 2 3 4 5 6 7 8 9]\n"
     ]
    }
   ],
   "source": [
    "#unique values in Y_train\n",
    "print(np.unique(Y_train))"
   ]
  },
  {
   "cell_type": "markdown",
   "metadata": {
    "id": "-KVewzQFsYjP"
   },
   "source": [
    "Podemos usar estas etiquetas como tal o tambien podemos aplicar un encoding\n"
   ]
  },
  {
   "cell_type": "code",
   "execution_count": null,
   "metadata": {
    "id": "dVeRL6oksXpo"
   },
   "outputs": [],
   "source": [
    "#all the images have the same dimensions in this dataset, if not, we have to resize all the images to a common dimension"
   ]
  },
  {
   "cell_type": "code",
   "execution_count": null,
   "metadata": {
    "id": "2MKTCBvIsrvt"
   },
   "outputs": [],
   "source": [
    "#escalando los valores\n",
    "X_train=X_train/255\n",
    "X_test=X_test/255\n"
   ]
  },
  {
   "cell_type": "code",
   "execution_count": null,
   "metadata": {
    "id": "lKGUQ1pjs-gh"
   },
   "outputs": [],
   "source": [
    "print(X_train[10])"
   ]
  },
  {
   "cell_type": "markdown",
   "metadata": {
    "id": "ivCLlLVqtFnN"
   },
   "source": [
    "0 --> Negro\n",
    "1-- > Blanco"
   ]
  },
  {
   "cell_type": "markdown",
   "metadata": {
    "id": "RUw7EQlStREp"
   },
   "source": [
    "Contruimos la red neuronal"
   ]
  },
  {
   "cell_type": "code",
   "execution_count": null,
   "metadata": {
    "id": "ub9j0ml8tD6y"
   },
   "outputs": [],
   "source": [
    "# Configuramos primero las capas de la red neurinal\n",
    "model=keras.Sequential([\n",
    "    keras.layers.Flatten(input_shape=(28,28)),\n",
    "    keras.layers.Dense(50,activation='relu'),\n",
    "    keras.layers.Dense(50,activation='relu'),\n",
    "    keras.layers.Dense(10,activation='sigmoid')  #esta es la salida y tiene 10 neuronas\n",
    "    # ya que se tienen 10 clases en el conjunto de datos\n",
    "])"
   ]
  },
  {
   "cell_type": "code",
   "execution_count": null,
   "metadata": {
    "id": "lAGZE-EBuku8"
   },
   "outputs": [],
   "source": [
    "#compilando el modelo\n",
    "model.compile(optimizer=\"adam\",\n",
    "              loss='sparse_categorical_crossentropy',\n",
    "              metrics=['accuracy'])"
   ]
  },
  {
   "cell_type": "code",
   "execution_count": null,
   "metadata": {
    "colab": {
     "base_uri": "https://localhost:8080/"
    },
    "id": "vMHRBI_Vu-0B",
    "outputId": "e548a520-e0ae-48bc-8afc-0da3aa603839"
   },
   "outputs": [
    {
     "name": "stdout",
     "output_type": "stream",
     "text": [
      "Epoch 1/10\n",
      "1875/1875 [==============================] - 10s 4ms/step - loss: 0.2922 - accuracy: 0.9142\n",
      "Epoch 2/10\n",
      "1875/1875 [==============================] - 6s 3ms/step - loss: 0.1333 - accuracy: 0.9595\n",
      "Epoch 3/10\n",
      "1875/1875 [==============================] - 7s 4ms/step - loss: 0.0978 - accuracy: 0.9702\n",
      "Epoch 4/10\n",
      "1875/1875 [==============================] - 6s 3ms/step - loss: 0.0807 - accuracy: 0.9748\n",
      "Epoch 5/10\n",
      "1875/1875 [==============================] - 7s 4ms/step - loss: 0.0671 - accuracy: 0.9790\n",
      "Epoch 6/10\n",
      "1875/1875 [==============================] - 6s 3ms/step - loss: 0.0565 - accuracy: 0.9821\n",
      "Epoch 7/10\n",
      "1875/1875 [==============================] - 8s 4ms/step - loss: 0.0492 - accuracy: 0.9837\n",
      "Epoch 8/10\n",
      "1875/1875 [==============================] - 7s 4ms/step - loss: 0.0435 - accuracy: 0.9862\n",
      "Epoch 9/10\n",
      "1875/1875 [==============================] - 7s 4ms/step - loss: 0.0398 - accuracy: 0.9869\n",
      "Epoch 10/10\n",
      "1875/1875 [==============================] - 6s 3ms/step - loss: 0.0346 - accuracy: 0.9888\n"
     ]
    },
    {
     "data": {
      "text/plain": [
       "<keras.src.callbacks.History at 0x7bd3b44fc310>"
      ]
     },
     "execution_count": 23,
     "metadata": {},
     "output_type": "execute_result"
    }
   ],
   "source": [
    "#entrenando la red neuronal\n",
    "model.fit(X_train,Y_train, epochs=10)"
   ]
  },
  {
   "cell_type": "markdown",
   "metadata": {
    "id": "QBw6j5mKv-TT"
   },
   "source": [
    "Training data accuracy is 98.88%\n"
   ]
  },
  {
   "cell_type": "code",
   "execution_count": null,
   "metadata": {
    "colab": {
     "base_uri": "https://localhost:8080/"
    },
    "id": "p2fKJNg5vhz-",
    "outputId": "3f9c2135-f8d0-4903-8a50-481c5715f64f"
   },
   "outputs": [
    {
     "name": "stdout",
     "output_type": "stream",
     "text": [
      "313/313 [==============================] - 2s 6ms/step - loss: 0.1026 - accuracy: 0.9707\n",
      "Lost of test data is, 0.10257270187139511 , and the accuracy es 0.9707000255584717\n"
     ]
    }
   ],
   "source": [
    "#Accuracy on test data\n",
    "loss,accuracy=model.evaluate(X_test,Y_test)\n",
    "print(f\"Lost of test data is, {loss} , and the accuracy es {accuracy}\")"
   ]
  },
  {
   "cell_type": "code",
   "execution_count": null,
   "metadata": {
    "colab": {
     "base_uri": "https://localhost:8080/",
     "height": 430
    },
    "id": "PLTLzQpDwX7z",
    "outputId": "e898df7f-8247-46b6-dcfd-703bea6d7c32"
   },
   "outputs": [
    {
     "data": {
      "image/png": "[encoded data removed]",
      "text/plain": [
       "<Figure size 640x480 with 1 Axes>"
      ]
     },
     "metadata": {},
     "output_type": "display_data"
    }
   ],
   "source": [
    "#first data point in X_test\n",
    "plt.imshow(X_test[0],cmap='gray')\n",
    "plt.show()"
   ]
  },
  {
   "cell_type": "code",
   "execution_count": null,
   "metadata": {
    "colab": {
     "base_uri": "https://localhost:8080/"
    },
    "id": "IXSwyV1DwpSc",
    "outputId": "dde5cb5c-7c73-4595-a0e4-e627c0ac05af"
   },
   "outputs": [
    {
     "name": "stdout",
     "output_type": "stream",
     "text": [
      "7\n"
     ]
    }
   ],
   "source": [
    "print(Y_test[0])"
   ]
  },
  {
   "cell_type": "code",
   "execution_count": 34,
   "metadata": {
    "colab": {
     "base_uri": "https://localhost:8080/"
    },
    "id": "Ezp8KONKwuEk",
    "outputId": "401724ff-d47c-4255-cce5-1e1421c7bf1b"
   },
   "outputs": [
    {
     "name": "stdout",
     "output_type": "stream",
     "text": [
      "313/313 [==============================] - 1s 3ms/step\n"
     ]
    }
   ],
   "source": [
    "y_pred=model.predict(X_test)"
   ]
  },
  {
   "cell_type": "code",
   "execution_count": 36,
   "metadata": {
    "colab": {
     "base_uri": "https://localhost:8080/"
    },
    "id": "EyLf9-PfxCEm",
    "outputId": "c7a02dd3-e38f-4bd0-f113-95829b7dfe3d"
   },
   "outputs": [
    {
     "name": "stdout",
     "output_type": "stream",
     "text": [
      "[7.1301719e-04 4.9515610e-04 6.6903070e-02 9.8845530e-01 5.0346502e-05\n",
      " 1.7538685e-02 6.7270044e-11 9.9998510e-01 4.5326474e-01 1.4378600e-01]\n"
     ]
    }
   ],
   "source": [
    "print(y_pred[0])"
   ]
  },
  {
   "cell_type": "markdown",
   "metadata": {
    "id": "kNxZ1kuqxRLO"
   },
   "source": [
    "model.predict gives the prediction probailty of each class for that fata point"
   ]
  },
  {
   "cell_type": "code",
   "execution_count": 37,
   "metadata": {
    "colab": {
     "base_uri": "https://localhost:8080/"
    },
    "id": "9Xr1SBD0xOy7",
    "outputId": "9173b0ac-43f8-4fe0-c033-079ae60fefad"
   },
   "outputs": [
    {
     "name": "stdout",
     "output_type": "stream",
     "text": [
      "7\n"
     ]
    }
   ],
   "source": [
    "#converting the prediction probabilities to class label\n",
    "label_for_first_image=np.argmax(y_pred[0])\n",
    "print(label_for_first_image)"
   ]
  },
  {
   "cell_type": "code",
   "execution_count": 38,
   "metadata": {
    "id": "KOa0fE7MyHJP"
   },
   "outputs": [],
   "source": [
    "#Lo hacemos ahora con todos los puntos\n",
    "y_pred_labels=[np.argmax(i) for i in y_pred]"
   ]
  },
  {
   "cell_type": "code",
   "execution_count": 40,
   "metadata": {
    "colab": {
     "base_uri": "https://localhost:8080/"
    },
    "id": "u43EMF6SySxn",
    "outputId": "f30e8e59-daa3-440f-9539-cde5c43d69ab"
   },
   "outputs": [
    {
     "name": "stdout",
     "output_type": "stream",
     "text": [
      "[7, 2, 1, 0, 4, 1, 4, 9, 5, 9, 0, 6, 9, 0, 1, 5, 9, 7, 3, 4, 9, 6, 6, 5, 4, 0, 7, 4, 0, 1, 3, 1, 3, 4, 7, 2, 7, 1, 2, 1, 1, 7, 4, 2, 3, 5, 1, 2, 4, 4, 6, 3, 5, 5, 6, 0, 4, 1, 9, 5, 7, 8, 9, 3, 7, 4, 6, 4, 3, 0, 7, 0, 2, 9, 1, 7, 3, 2, 9, 7, 7, 6, 2, 7, 8, 4, 7, 3, 6, 1, 3, 6, 9, 3, 1, 4, 1, 7, 6, 9, 6, 0, 5, 4, 9, 9, 2, 1, 9, 4, 8, 7, 3, 9, 7, 4, 4, 4, 9, 2, 5, 4, 7, 6, 7, 9, 0, 5, 8, 5, 6, 6, 5, 7, 8, 1, 0, 1, 6, 4, 6, 7, 3, 1, 7, 1, 8, 2, 0, 9, 9, 8, 5, 5, 1, 5, 6, 0, 3, 4, 4, 6, 5, 4, 6, 5, 4, 5, 1, 4, 4, 7, 2, 3, 2, 7, 1, 8, 1, 8, 1, 8, 5, 0, 8, 9, 2, 5, 0, 1, 1, 1, 0, 9, 0, 3, 1, 6, 4, 2, 3, 6, 1, 1, 1, 3, 9, 5, 2, 9, 4, 5, 9, 3, 9, 0, 3, 6, 5, 5, 7, 2, 2, 7, 1, 2, 8, 4, 1, 7, 3, 3, 8, 8, 7, 9, 2, 2, 4, 1, 5, 5, 8, 7, 2, 3, 0, 6, 4, 2, 4, 1, 9, 5, 7, 7, 2, 8, 2, 0, 8, 5, 7, 7, 9, 1, 8, 1, 8, 0, 3, 0, 1, 9, 9, 4, 1, 8, 2, 1, 2, 9, 7, 5, 9, 2, 6, 4, 1, 5, 8, 2, 9, 2, 0, 4, 0, 0, 2, 8, 4, 7, 1, 2, 4, 0, 2, 7, 4, 3, 3, 0, 0, 3, 1, 9, 6, 5, 2, 5, 9, 7, 9, 3, 0, 4, 2, 0, 7, 1, 1, 2, 1, 5, 3, 3, 9, 7, 8, 6, 3, 6, 1, 3, 8, 1, 0, 5, 1, 3, 1, 5, 5, 6, 1, 8, 5, 1, 4, 9, 4, 6, 2, 2, 5, 0, 6, 5, 6, 3, 7, 2, 0, 8, 8, 5, 4, 1, 1, 4, 0, 3, 3, 7, 6, 1, 5, 2, 1, 9, 2, 8, 6, 1, 9, 5, 2, 5, 4, 4, 2, 8, 3, 8, 2, 4, 5, 0, 3, 1, 7, 7, 5, 7, 9, 7, 1, 9, 2, 1, 4, 2, 9, 2, 0, 4, 9, 1, 4, 8, 1, 8, 4, 5, 9, 8, 8, 3, 7, 6, 0, 0, 3, 0, 2, 0, 6, 4, 9, 5, 3, 3, 2, 3, 9, 1, 2, 6, 8, 0, 5, 6, 6, 6, 3, 8, 8, 2, 7, 5, 8, 9, 6, 1, 8, 4, 1, 2, 5, 5, 1, 9, 7, 5, 4, 0, 8, 9, 9, 1, 0, 5, 2, 3, 7, 8, 9, 4, 0, 6, 3, 9, 5, 2, 1, 3, 1, 3, 6, 5, 7, 4, 2, 2, 6, 3, 2, 6, 5, 4, 8, 9, 7, 1, 3, 0, 3, 8, 3, 1, 9, 3, 4, 4, 6, 4, 2, 1, 8, 2, 5, 4, 8, 8, 4, 0, 0, 2, 3, 2, 9, 7, 0, 8, 7, 4, 4, 7, 9, 6, 9, 0, 9, 8, 0, 4, 6, 0, 6, 3, 5, 4, 8, 3, 3, 9, 3, 3, 3, 7, 8, 0, 2, 2, 1, 7, 0, 6, 5, 4, 3, 8, 0, 9, 6, 3, 8, 0, 9, 9, 6, 8, 6, 8, 5, 7, 8, 6, 0, 2, 4, 0, 2, 2, 3, 1, 9, 7, 5, 8, 0, 8, 4, 6, 8, 6, 7, 9, 3, 2, 9, 8, 2, 2, 9, 2, 7, 3, 5, 9, 1, 8, 0, 2, 0, 5, 6, 1, 3, 7, 6, 7, 1, 2, 5, 8, 0, 3, 7, 8, 4, 0, 9, 1, 8, 6, 7, 7, 4, 3, 4, 9, 1, 9, 5, 1, 7, 3, 9, 7, 6, 9, 1, 3, 2, 8, 3, 3, 6, 7, 2, 4, 5, 8, 5, 1, 1, 4, 4, 3, 1, 0, 7, 7, 0, 7, 9, 9, 4, 8, 5, 5, 4, 0, 8, 2, 1, 0, 8, 4, 8, 0, 4, 0, 6, 1, 7, 3, 2, 6, 7, 2, 6, 9, 3, 1, 4, 6, 2, 5, 4, 2, 0, 6, 2, 1, 7, 3, 4, 1, 0, 5, 4, 3, 1, 1, 7, 4, 9, 9, 4, 8, 4, 0, 2, 4, 5, 1, 1, 6, 4, 7, 1, 9, 4, 2, 4, 1, 5, 5, 3, 8, 3, 1, 4, 5, 6, 8, 9, 4, 1, 5, 3, 8, 0, 3, 2, 5, 1, 2, 8, 3, 4, 4, 0, 8, 8, 3, 3, 1, 7, 3, 5, 9, 6, 3, 2, 6, 1, 3, 6, 0, 7, 2, 1, 7, 1, 4, 2, 4, 2, 1, 7, 9, 6, 1, 1, 2, 4, 8, 1, 7, 7, 4, 8, 0, 9, 3, 1, 3, 1, 0, 7, 7, 0, 3, 5, 5, 2, 7, 6, 6, 9, 2, 8, 3, 5, 2, 2, 5, 6, 0, 8, 2, 9, 2, 8, 8, 8, 8, 7, 4, 9, 5, 0, 6, 6, 3, 2, 1, 3, 2, 2, 9, 3, 0, 0, 5, 7, 8, 1, 4, 4, 6, 0, 2, 9, 1, 4, 7, 4, 7, 3, 9, 8, 8, 4, 7, 1, 2, 1, 2, 2, 3, 2, 3, 2, 3, 9, 1, 7, 4, 0, 3, 5, 5, 8, 6, 3, 2, 6, 7, 6, 6, 3, 2, 7, 8, 1, 1, 7, 4, 6, 4, 9, 5, 2, 9, 3, 4, 7, 8, 9, 1, 1, 5, 9, 1, 4, 4, 5, 4, 0, 6, 2, 2, 3, 1, 5, 1, 2, 0, 3, 8, 1, 2, 6, 7, 1, 6, 2, 3, 4, 0, 1, 2, 2, 0, 8, 9, 9, 0, 2, 3, 1, 9, 7, 8, 1, 0, 4, 1, 7, 9, 5, 4, 2, 6, 8, 1, 3, 7, 5, 4, 4, 1, 8, 1, 3, 8, 1, 2, 5, 8, 0, 6, 2, 1, 1, 1, 1, 5, 3, 4, 2, 9, 5, 0, 9, 2, 2, 4, 8, 2, 1, 7, 2, 4, 9, 4, 4, 0, 3, 9, 2, 2, 3, 3, 8, 3, 5, 7, 3, 5, 8, 1, 2, 4, 4, 6, 4, 9, 5, 1, 0, 6, 9, 5, 9, 5, 9, 7, 3, 8, 0, 3, 7, 1, 3, 6, 7, 8, 5, 9, 7, 9, 6, 9, 6, 3, 7, 4, 6, 5, 3, 5, 4, 7, 8, 7, 8, 0, 7, 6, 8, 8, 7, 3, 3, 1, 9, 5, 2, 7, 3, 5, 1, 1, 2, 1, 4, 7, 4, 7, 5, 4, 5, 4, 0, 8, 3, 6, 9, 6, 0, 2, 8, 4, 4, 4, 4, 6, 6, 4, 7, 9, 3, 4, 5, 5, 8, 7, 3, 7, 2, 7, 0, 2, 4, 1, 1, 2, 8, 9, 2, 8, 7, 2, 0, 1, 5, 0, 9, 1, 8, 0, 6, 0, 8, 6, 8, 1, 8, 0, 3, 3, 7, 2, 3, 6, 2, 1, 6, 1, 1, 3, 9, 9, 0, 8, 0, 5, 4, 0, 6, 8, 2, 2, 9, 8, 4, 0, 4, 5, 8, 5, 1, 2, 1, 3, 1, 7, 9, 5, 7, 2, 0, 5, 8, 8, 6, 2, 5, 4, 1, 9, 2, 1, 5, 8, 1, 0, 2, 4, 4, 3, 6, 8, 8, 2, 9, 0, 5, 0, 4, 4, 7, 9, 3, 4, 1, 5, 9, 2, 3, 5, 8, 8, 0, 5, 3, 3, 6, 6, 0, 1, 6, 0, 3, 5, 4, 4, 1, 2, 9, 1, 4, 6, 9, 9, 3, 9, 8, 4, 4, 3, 1, 3, 1, 8, 8, 7, 9, 4, 8, 8, 7, 9, 8, 1, 4, 5, 6, 0, 5, 2, 2, 2, 1, 5, 5, 2, 4, 9, 6, 2, 7, 7, 2, 2, 1, 1, 2, 8, 3, 7, 2, 4, 1, 7, 1, 7, 6, 7, 8, 2, 7, 3, 1, 7, 5, 8, 2, 6, 2, 2, 5, 6, 5, 0, 9, 2, 4, 3, 3, 9, 7, 6, 6, 8, 0, 4, 1, 3, 8, 8, 9, 1, 8, 0, 6, 7, 2, 1, 0, 5, 5, 2, 0, 2, 2, 0, 2, 4, 9, 8, 0, 9, 9, 4, 6, 5, 4, 9, 1, 8, 3, 4, 9, 4, 1, 2, 2, 8, 1, 9, 6, 4, 0, 9, 4, 8, 3, 8, 7, 0, 2, 5, 1, 9, 6, 2, 9, 4, 0, 9, 6, 0, 6, 2, 5, 4, 2, 3, 3, 4, 5, 5, 0, 3, 8, 5, 3, 5, 8, 6, 5, 7, 6, 3, 3, 9, 6, 1, 1, 2, 9, 0, 4, 3, 3, 6, 9, 5, 7, 3, 9, 7, 7, 8, 7, 9, 8, 3, 0, 7, 2, 7, 9, 4, 5, 4, 9, 3, 2, 1, 4, 0, 2, 3, 8, 5, 9, 8, 8, 5, 0, 5, 1, 4, 8, 5, 9, 0, 0, 0, 6, 6, 2, 3, 7, 8, 4, 7, 7, 9, 2, 4, 1, 6, 5, 2, 4, 3, 9, 1, 8, 4, 0, 9, 8, 4, 8, 7, 7, 0, 7, 8, 8, 4, 0, 4, 8, 8, 2, 4, 7, 6, 6, 6, 4, 7, 1, 8, 8, 2, 3, 5, 3, 0, 0, 3, 7, 6, 9, 7, 9, 9, 5, 4, 3, 3, 6, 1, 2, 3, 7, 3, 3, 3, 0, 3, 3, 8, 4, 3, 6, 3, 5, 0, 2, 6, 9, 0, 7, 4, 5, 9, 3, 5, 1, 9, 6, 1, 4, 5, 4, 5, 0, 5, 9, 5, 2, 1, 2, 9, 1, 9, 9, 4, 0, 8, 4, 5, 2, 9, 2, 1, 2, 1, 7, 3, 6, 8, 8, 4, 9, 1, 9, 8, 5, 7, 5, 1, 1, 8, 6, 5, 2, 4, 4, 7, 2, 3, 5, 6, 8, 8, 6, 2, 3, 1, 0, 5, 8, 9, 2, 9, 6, 7, 0, 4, 8, 7, 1, 7, 4, 1, 0, 3, 7, 2, 0, 0, 9, 1, 7, 8, 7, 8, 4, 7, 2, 0, 4, 6, 0, 3, 1, 1, 3, 3, 9, 6, 7, 4, 1, 5, 3, 0, 8, 7, 3, 9, 6, 9, 3, 5, 5, 2, 7, 2, 5, 1, 2, 5, 8, 0, 8, 8, 1, 5, 0, 3, 0, 3, 1, 4, 0, 3, 7, 2, 7, 1, 8, 0, 7, 0, 4, 3, 1, 9, 8, 7, 7, 1, 4, 9, 9, 3, 8, 1, 7, 9, 0, 2, 0, 3, 3, 7, 6, 9, 2, 3, 3, 7, 7, 0, 0, 7, 5, 2, 9, 8, 7, 4, 4, 2, 6, 6, 1, 9, 5, 8, 2, 9, 0, 8, 3, 1, 1, 6, 3, 5, 1, 1, 1, 3, 1, 2, 3, 0, 2, 0, 1, 3, 5, 5, 7, 4, 8, 9, 6, 9, 6, 8, 3, 6, 6, 8, 5, 1, 4, 2, 4, 4, 5, 1, 1, 9, 0, 2, 4, 9, 5, 7, 1, 8, 3, 5, 6, 9, 8, 7, 1, 1, 6, 7, 6, 3, 2, 2, 0, 8, 9, 2, 5, 1, 0, 8, 1, 4, 5, 7, 9, 6, 9, 0, 6, 1, 5, 6, 8, 3, 8, 2, 6, 5, 0, 7, 4, 6, 1, 3, 4, 7, 3, 2, 3, 4, 2, 5, 2, 7, 1, 7, 2, 6, 4, 1, 5, 8, 8, 6, 0, 1, 8, 2, 5, 7, 7, 6, 3, 3, 5, 8, 4, 2, 4, 0, 8, 8, 3, 4, 9, 2, 7, 5, 8, 6, 5, 6, 0, 8, 6, 7, 3, 6, 4, 9, 4, 6, 6, 3, 0, 4, 1, 9, 1, 4, 6, 2, 9, 1, 1, 0, 6, 3, 9, 5, 6, 5, 6, 5, 8, 4, 6, 4, 3, 9, 1, 3, 4, 1, 9, 1, 2, 1, 1, 9, 3, 5, 4, 0, 9, 3, 6, 1, 7, 5, 5, 3, 3, 0, 1, 5, 7, 5, 8, 6, 5, 1, 0, 4, 2, 3, 4, 6, 7, 9, 8, 1, 8, 9, 9, 2, 8, 6, 2, 7, 0, 0, 6, 7, 5, 8, 6, 0, 9, 3, 9, 1, 3, 5, 4, 3, 3, 5, 5, 6, 3, 0, 2, 3, 4, 2, 3, 0, 9, 9, 4, 7, 2, 8, 4, 7, 0, 6, 0, 8, 5, 2, 8, 5, 7, 3, 0, 8, 2, 7, 2, 8, 2, 5, 5, 7, 6, 4, 6, 8, 4, 8, 2, 7, 4, 5, 2, 0, 3, 8, 4, 6, 7, 2, 5, 8, 1, 1, 2, 3, 6, 7, 8, 7, 6, 4, 8, 9, 4, 8, 6, 3, 8, 3, 1, 0, 6, 2, 2, 5, 6, 9, 5, 8, 1, 4, 1, 7, 8, 4, 6, 1, 8, 4, 5, 1, 2, 8, 0, 8, 5, 9, 2, 4, 2, 8, 5, 7, 0, 9, 0, 2, 5, 7, 6, 7, 9, 4, 2, 6, 2, 4, 4, 8, 0, 4, 4, 5, 8, 0, 6, 8, 9, 8, 5, 6, 9, 0, 4, 8, 7, 1, 3, 4, 5, 8, 0, 9, 1, 3, 3, 6, 9, 8, 7, 1, 0, 5, 7, 1, 7, 5, 2, 7, 9, 1, 8, 5, 2, 4, 9, 4, 7, 2, 2, 3, 4, 9, 1, 9, 2, 1, 7, 9, 4, 4, 1, 6, 7, 2, 7, 8, 8, 1, 9, 7, 1, 1, 7, 5, 3, 3, 5, 1, 3, 7, 6, 1, 3, 8, 7, 5, 9, 6, 0, 0, 2, 8, 8, 2, 3, 7, 1, 3, 0, 3, 4, 4, 3, 8, 9, 2, 3, 9, 7, 1, 1, 7, 0, 4, 9, 6, 5, 9, 1, 7, 0, 2, 0, 0, 4, 6, 7, 0, 7, 1, 4, 6, 4, 5, 4, 9, 9, 1, 7, 9, 5, 3, 3, 8, 2, 3, 6, 2, 2, 1, 1, 1, 1, 1, 6, 9, 8, 4, 3, 7, 1, 6, 4, 5, 0, 4, 7, 4, 2, 4, 0, 7, 0, 1, 9, 8, 8, 6, 0, 0, 4, 1, 6, 8, 2, 2, 3, 8, 4, 8, 2, 2, 1, 7, 5, 4, 4, 0, 4, 3, 9, 7, 9, 1, 0, 1, 2, 5, 4, 2, 1, 0, 1, 8, 9, 1, 6, 8, 3, 8, 9, 3, 6, 2, 8, 3, 2, 2, 1, 0, 4, 2, 9, 2, 4, 3, 7, 9, 1, 5, 2, 9, 9, 0, 3, 8, 5, 3, 6, 0, 9, 4, 6, 2, 5, 0, 8, 7, 4, 6, 6, 8, 6, 6, 8, 6, 9, 1, 7, 2, 5, 9, 9, 0, 7, 2, 7, 6, 7, 0, 6, 5, 4, 4, 7, 2, 0, 9, 9, 2, 2, 9, 4, 4, 2, 3, 3, 2, 1, 7, 0, 7, 6, 4, 1, 3, 8, 7, 4, 5, 9, 2, 5, 1, 8, 7, 3, 7, 1, 5, 5, 0, 9, 1, 4, 0, 6, 3, 3, 6, 0, 4, 9, 7, 5, 1, 6, 8, 9, 5, 5, 7, 9, 3, 8, 3, 8, 1, 5, 3, 5, 0, 5, 5, 3, 8, 6, 7, 7, 7, 3, 7, 0, 5, 8, 0, 2, 5, 5, 3, 1, 7, 7, 8, 6, 5, 9, 3, 8, 9, 5, 3, 7, 9, 1, 7, 0, 0, 3, 7, 2, 5, 8, 1, 8, 6, 2, 9, 5, 7, 5, 7, 8, 6, 2, 5, 1, 4, 8, 4, 5, 8, 3, 0, 6, 2, 7, 3, 3, 2, 1, 0, 7, 3, 4, 0, 3, 9, 3, 2, 8, 9, 0, 3, 8, 0, 7, 6, 5, 4, 7, 3, 5, 0, 8, 6, 2, 5, 1, 1, 0, 0, 4, 4, 0, 1, 2, 3, 2, 7, 7, 8, 5, 2, 5, 7, 6, 9, 1, 4, 1, 6, 4, 2, 4, 3, 5, 4, 3, 9, 5, 0, 1, 5, 3, 8, 9, 1, 9, 7, 9, 5, 5, 2, 7, 4, 6, 0, 1, 1, 1, 0, 4, 4, 7, 6, 3, 0, 0, 4, 3, 0, 6, 1, 9, 6, 1, 3, 8, 1, 2, 5, 6, 2, 7, 3, 6, 0, 1, 9, 7, 6, 6, 8, 9, 2, 9, 8, 8, 3, 1, 0, 0, 7, 6, 6, 2, 1, 6, 9, 3, 1, 8, 6, 9, 0, 6, 0, 0, 0, 6, 3, 5, 9, 3, 9, 5, 5, 8, 5, 3, 0, 4, 0, 3, 9, 6, 8, 2, 3, 1, 2, 1, 1, 5, 6, 9, 8, 0, 6, 6, 5, 5, 3, 8, 6, 2, 1, 4, 5, 4, 3, 7, 8, 5, 0, 9, 3, 5, 1, 1, 0, 4, 4, 7, 0, 1, 7, 0, 1, 6, 1, 4, 5, 6, 6, 5, 7, 8, 4, 4, 7, 2, 5, 3, 7, 0, 7, 7, 9, 6, 4, 2, 8, 5, 7, 8, 3, 9, 5, 8, 9, 9, 8, 6, 2, 8, 9, 2, 3, 6, 1, 1, 8, 9, 3, 4, 0, 7, 9, 6, 4, 1, 4, 1, 3, 4, 9, 3, 1, 4, 7, 7, 4, 7, 2, 9, 3, 0, 8, 8, 8, 4, 0, 4, 4, 1, 5, 2, 8, 3, 4, 9, 5, 2, 8, 1, 5, 3, 8, 9, 4, 2, 5, 6, 8, 5, 9, 3, 5, 9, 2, 1, 9, 5, 3, 0, 6, 9, 8, 4, 0, 4, 7, 2, 9, 0, 1, 0, 3, 1, 6, 5, 8, 1, 5, 3, 5, 0, 3, 5, 5, 9, 2, 8, 7, 0, 4, 9, 1, 9, 7, 7, 5, 5, 2, 0, 9, 1, 8, 6, 2, 3, 9, 6, 2, 1, 9, 1, 3, 5, 5, 0, 3, 8, 3, 3, 7, 6, 6, 0, 1, 4, 0, 6, 8, 8, 1, 2, 9, 9, 5, 9, 7, 3, 7, 8, 0, 1, 3, 0, 4, 6, 1, 0, 7, 5, 8, 4, 4, 1, 1, 5, 4, 8, 6, 0, 6, 9, 2, 6, 2, 7, 1, 7, 9, 4, 0, 0, 3, 8, 2, 2, 3, 1, 6, 0, 5, 7, 3, 9, 2, 6, 7, 9, 7, 8, 6, 8, 8, 4, 6, 8, 4, 1, 2, 8, 2, 3, 9, 4, 0, 3, 7, 3, 2, 3, 3, 7, 3, 4, 0, 6, 2, 0, 8, 1, 5, 3, 5, 4, 1, 7, 1, 5, 7, 5, 7, 3, 2, 2, 7, 3, 7, 3, 7, 8, 5, 4, 5, 2, 9, 6, 5, 3, 6, 7, 4, 1, 7, 1, 5, 2, 3, 6, 3, 1, 4, 2, 6, 7, 4, 3, 8, 0, 6, 2, 1, 6, 5, 5, 9, 1, 9, 3, 8, 1, 8, 4, 4, 6, 5, 8, 6, 9, 7, 7, 8, 6, 9, 7, 3, 9, 4, 0, 5, 4, 6, 4, 1, 2, 3, 0, 0, 2, 6, 6, 5, 7, 0, 8, 6, 4, 7, 9, 0, 7, 3, 4, 2, 1, 8, 8, 5, 9, 2, 7, 1, 8, 8, 8, 2, 7, 6, 0, 1, 2, 7, 1, 0, 8, 3, 5, 0, 5, 3, 6, 2, 8, 9, 0, 1, 4, 2, 1, 1, 4, 4, 4, 4, 7, 1, 6, 2, 9, 9, 0, 0, 1, 8, 8, 4, 3, 4, 2, 9, 6, 1, 6, 1, 2, 2, 2, 1, 2, 3, 7, 8, 1, 0, 0, 2, 1, 6, 6, 0, 1, 6, 2, 5, 1, 7, 4, 8, 2, 1, 4, 3, 8, 3, 9, 9, 4, 8, 3, 4, 7, 2, 7, 5, 7, 0, 4, 3, 3, 2, 6, 7, 6, 0, 0, 6, 7, 7, 0, 5, 5, 8, 1, 0, 7, 0, 2, 8, 1, 5, 0, 8, 8, 0, 3, 2, 7, 7, 3, 6, 4, 9, 5, 5, 5, 2, 9, 2, 8, 4, 6, 8, 6, 5, 0, 0, 8, 7, 6, 1, 7, 1, 1, 2, 7, 4, 0, 0, 7, 7, 6, 3, 8, 6, 4, 2, 0, 9, 4, 0, 5, 7, 8, 2, 9, 4, 7, 1, 1, 3, 6, 6, 2, 9, 1, 9, 4, 8, 3, 6, 9, 5, 9, 6, 2, 4, 6, 7, 7, 0, 6, 6, 9, 4, 8, 3, 5, 3, 4, 9, 0, 0, 5, 2, 5, 0, 7, 1, 1, 1, 0, 7, 6, 7, 9, 6, 6, 4, 1, 4, 3, 1, 1, 2, 2, 4, 1, 0, 8, 7, 6, 3, 4, 0, 0, 6, 3, 3, 0, 9, 1, 7, 1, 1, 3, 1, 0, 9, 9, 7, 5, 4, 1, 4, 8, 9, 5, 3, 5, 1, 9, 8, 2, 3, 3, 9, 9, 0, 1, 0, 2, 9, 3, 9, 3, 3, 6, 2, 4, 9, 8, 3, 7, 4, 0, 4, 7, 8, 4, 9, 8, 1, 9, 7, 5, 9, 2, 8, 2, 2, 0, 2, 2, 3, 8, 4, 6, 8, 4, 8, 2, 4, 6, 7, 9, 3, 3, 9, 4, 3, 1, 4, 4, 7, 0, 5, 9, 6, 0, 4, 4, 4, 4, 6, 1, 2, 3, 2, 5, 4, 5, 9, 6, 8, 5, 6, 5, 5, 6, 4, 1, 8, 6, 5, 2, 5, 4, 5, 5, 4, 7, 7, 0, 8, 8, 2, 2, 3, 7, 0, 1, 8, 0, 7, 1, 9, 8, 7, 5, 5, 9, 1, 7, 5, 4, 9, 1, 2, 2, 1, 6, 6, 7, 1, 1, 4, 0, 7, 4, 2, 4, 0, 6, 4, 7, 6, 9, 5, 3, 4, 6, 5, 0, 1, 8, 8, 2, 3, 3, 5, 7, 8, 0, 8, 5, 7, 1, 1, 0, 1, 3, 7, 8, 5, 0, 7, 1, 1, 0, 1, 1, 4, 5, 2, 7, 6, 2, 3, 0, 2, 8, 5, 4, 6, 9, 7, 2, 1, 3, 6, 4, 1, 8, 2, 4, 0, 5, 1, 0, 3, 2, 6, 4, 4, 3, 9, 6, 1, 6, 5, 7, 9, 2, 0, 2, 6, 0, 1, 4, 3, 5, 2, 8, 8, 0, 8, 8, 9, 0, 9, 6, 7, 6, 3, 9, 3, 4, 7, 7, 7, 4, 9, 0, 6, 4, 8, 4, 2, 7, 2, 8, 1, 0, 0, 7, 8, 3, 3, 3, 1, 3, 7, 6, 1, 3, 1, 6, 6, 5, 2, 4, 7, 5, 9, 5, 8, 4, 9, 9, 1, 6, 5, 0, 1, 3, 7, 0, 3, 4, 8, 2, 2, 0, 2, 8, 1, 5, 1, 6, 8, 8, 9, 1, 2, 1, 3, 5, 1, 0, 9, 4, 4, 8, 3, 8, 5, 9, 7, 6, 6, 2, 0, 0, 0, 5, 8, 8, 1, 5, 3, 3, 8, 5, 1, 8, 2, 4, 4, 9, 4, 6, 2, 3, 3, 5, 6, 4, 8, 0, 9, 2, 8, 3, 6, 7, 5, 7, 2, 9, 4, 9, 1, 2, 8, 6, 0, 7, 0, 4, 1, 1, 5, 7, 5, 9, 9, 1, 4, 5, 9, 2, 5, 0, 4, 1, 0, 8, 4, 0, 8, 9, 8, 9, 4, 2, 5, 7, 9, 8, 9, 8, 0, 9, 9, 6, 8, 9, 9, 5, 9, 8, 5, 1, 0, 3, 3, 5, 2, 1, 6, 3, 0, 2, 8, 3, 5, 6, 2, 3, 0, 2, 2, 6, 4, 3, 5, 5, 1, 7, 2, 1, 6, 9, 1, 9, 9, 5, 5, 1, 6, 2, 2, 8, 6, 7, 1, 4, 6, 0, 2, 0, 5, 3, 2, 2, 3, 6, 8, 9, 8, 5, 3, 8, 5, 4, 5, 2, 0, 5, 6, 3, 2, 8, 3, 9, 9, 5, 7, 9, 4, 6, 7, 1, 3, 1, 3, 6, 6, 0, 9, 0, 1, 9, 4, 2, 8, 8, 0, 1, 6, 9, 7, 5, 3, 4, 7, 4, 9, 9, 4, 3, 6, 3, 1, 1, 9, 6, 9, 1, 8, 4, 1, 1, 9, 9, 4, 3, 6, 8, 1, 6, 0, 4, 1, 3, 7, 7, 4, 9, 5, 1, 0, 0, 1, 1, 6, 2, 1, 9, 8, 4, 0, 3, 6, 4, 9, 0, 7, 1, 6, 5, 7, 5, 2, 5, 1, 8, 5, 4, 7, 0, 6, 7, 8, 2, 5, 8, 1, 0, 4, 5, 7, 1, 3, 5, 1, 3, 0, 0, 6, 0, 7, 3, 1, 8, 3, 9, 7, 0, 0, 8, 9, 5, 9, 8, 3, 2, 7, 2, 9, 7, 2, 1, 1, 3, 7, 5, 3, 1, 9, 8, 2, 2, 2, 8, 8, 5, 7, 3, 8, 9, 8, 8, 6, 8, 2, 3, 9, 7, 5, 6, 2, 9, 2, 8, 8, 1, 4, 8, 8, 7, 9, 1, 8, 0, 1, 7, 2, 0, 7, 5, 1, 4, 0, 8, 0, 9, 8, 6, 2, 3, 5, 3, 8, 0, 2, 1, 1, 1, 1, 4, 2, 9, 7, 7, 6, 1, 1, 2, 1, 9, 9, 9, 1, 0, 2, 0, 2, 1, 1, 4, 6, 4, 1, 5, 4, 9, 9, 7, 7, 5, 6, 2, 2, 2, 8, 0, 6, 9, 6, 1, 9, 7, 7, 1, 4, 8, 5, 3, 4, 3, 4, 7, 7, 5, 0, 7, 4, 8, 8, 1, 5, 3, 9, 5, 9, 3, 6, 9, 0, 3, 6, 3, 9, 8, 2, 8, 1, 2, 8, 6, 8, 5, 5, 3, 9, 4, 9, 2, 5, 1, 5, 1, 4, 4, 1, 4, 6, 3, 5, 9, 1, 2, 2, 3, 3, 0, 2, 9, 0, 0, 9, 9, 6, 0, 9, 3, 7, 8, 4, 1, 9, 5, 7, 2, 8, 9, 9, 5, 9, 5, 1, 1, 8, 3, 5, 1, 9, 5, 3, 5, 4, 9, 5, 9, 3, 1, 9, 0, 9, 7, 5, 4, 9, 2, 0, 1, 0, 5, 1, 4, 9, 3, 3, 6, 1, 5, 2, 5, 2, 2, 0, 9, 2, 6, 6, 0, 1, 2, 0, 3, 0, 2, 5, 5, 7, 9, 5, 3, 0, 8, 9, 5, 0, 3, 2, 5, 9, 0, 8, 8, 4, 5, 8, 8, 4, 5, 4, 8, 5, 9, 9, 2, 2, 1, 2, 6, 8, 8, 7, 0, 3, 6, 6, 4, 3, 8, 8, 7, 2, 2, 0, 0, 9, 3, 9, 9, 1, 9, 8, 6, 6, 4, 2, 6, 9, 2, 8, 5, 4, 5, 7, 9, 4, 9, 2, 1, 8, 3, 4, 0, 2, 8, 3, 9, 5, 4, 6, 5, 6, 2, 3, 9, 2, 6, 0, 0, 6, 1, 2, 8, 7, 9, 8, 2, 0, 4, 7, 7, 5, 0, 5, 6, 4, 6, 7, 4, 3, 0, 7, 5, 0, 7, 4, 2, 0, 8, 9, 9, 4, 2, 4, 6, 7, 8, 7, 6, 9, 4, 1, 3, 7, 3, 0, 8, 7, 7, 6, 9, 3, 9, 2, 2, 3, 2, 1, 8, 3, 2, 9, 6, 8, 4, 0, 1, 2, 8, 4, 5, 2, 7, 8, 1, 1, 3, 0, 3, 5, 7, 0, 3, 1, 8, 3, 5, 3, 1, 7, 7, 3, 0, 8, 4, 8, 2, 6, 5, 2, 9, 4, 9, 9, 0, 9, 9, 6, 4, 2, 9, 7, 2, 1, 1, 6, 7, 4, 7, 5, 9, 8, 8, 2, 1, 4, 4, 5, 7, 6, 1, 3, 2, 5, 9, 9, 3, 6, 1, 1, 4, 6, 9, 7, 2, 1, 5, 1, 4, 6, 3, 4, 1, 1, 0, 3, 1, 6, 8, 4, 9, 0, 7, 3, 0, 4, 9, 0, 6, 6, 6, 3, 6, 7, 7, 2, 8, 6, 0, 8, 3, 0, 2, 9, 8, 5, 2, 5, 3, 9, 8, 0, 0, 1, 9, 5, 1, 3, 9, 6, 0, 1, 4, 1, 7, 1, 2, 3, 7, 9, 7, 4, 9, 9, 3, 9, 2, 8, 1, 7, 1, 8, 0, 9, 1, 0, 1, 7, 7, 9, 6, 9, 9, 9, 2, 1, 6, 1, 3, 5, 7, 1, 9, 7, 6, 4, 5, 7, 6, 6, 9, 9, 6, 3, 6, 2, 9, 8, 1, 2, 2, 5, 5, 2, 3, 7, 2, 1, 0, 1, 0, 4, 5, 2, 8, 2, 8, 3, 5, 1, 7, 8, 1, 1, 2, 9, 7, 8, 4, 0, 5, 0, 7, 8, 8, 4, 7, 7, 8, 5, 8, 4, 9, 8, 1, 3, 8, 0, 3, 1, 7, 9, 5, 5, 1, 6, 5, 7, 4, 9, 3, 5, 4, 7, 1, 2, 0, 8, 1, 6, 0, 7, 3, 4, 7, 8, 9, 6, 0, 8, 6, 4, 8, 7, 7, 9, 3, 8, 6, 9, 7, 2, 3, 4, 0, 2, 1, 3, 3, 5, 5, 7, 2, 4, 6, 7, 2, 8, 3, 0, 8, 7, 8, 6, 0, 8, 4, 4, 5, 8, 5, 6, 6, 3, 0, 9, 3, 7, 6, 8, 9, 3, 4, 9, 5, 8, 9, 1, 2, 8, 8, 6, 8, 1, 3, 7, 9, 0, 1, 1, 4, 7, 0, 8, 1, 7, 4, 5, 7, 1, 2, 1, 1, 3, 9, 6, 4, 1, 2, 8, 8, 7, 6, 6, 9, 3, 8, 0, 5, 2, 8, 0, 5, 4, 3, 8, 4, 6, 6, 2, 7, 9, 5, 1, 3, 2, 4, 3, 6, 1, 9, 4, 4, 7, 6, 5, 4, 1, 9, 9, 2, 7, 8, 0, 1, 3, 6, 1, 3, 4, 1, 1, 1, 5, 6, 0, 7, 0, 7, 2, 3, 2, 5, 8, 2, 9, 4, 9, 8, 1, 3, 1, 6, 1, 2, 7, 8, 0, 0, 0, 8, 2, 2, 9, 2, 2, 7, 9, 9, 2, 7, 5, 1, 3, 4, 9, 4, 1, 8, 5, 6, 2, 8, 3, 1, 2, 8, 4, 9, 9, 2, 7, 0, 7, 7, 2, 3, 2, 4, 0, 3, 9, 9, 8, 4, 1, 0, 6, 0, 9, 6, 8, 6, 1, 1, 9, 8, 9, 2, 3, 5, 5, 9, 4, 2, 1, 9, 4, 3, 9, 6, 0, 4, 0, 6, 0, 1, 2, 3, 4, 7, 8, 9, 0, 1, 2, 3, 4, 7, 8, 9, 0, 1, 2, 3, 4, 5, 6, 7, 8, 9, 8, 3, 4, 7, 8, 6, 3, 4, 0, 9, 7, 1, 9, 3, 8, 4, 7, 8, 0, 9, 1, 4, 5, 4, 6, 2, 0, 6, 2, 1, 1, 1, 1, 7, 2, 4, 7, 5, 2, 9, 4, 5, 8, 4, 2, 9, 7, 0, 0, 7, 5, 1, 1, 7, 6, 6, 6, 8, 2, 2, 7, 7, 4, 0, 2, 4, 2, 1, 8, 9, 6, 1, 0, 5, 9, 6, 9, 8, 0, 4, 0, 8, 3, 9, 6, 3, 0, 1, 2, 3, 4, 5, 6, 7, 0, 1, 2, 3, 4, 5, 6, 7, 8, 9, 5, 1, 2, 3, 4, 5, 6, 7, 8, 5, 4, 8, 7, 4, 7, 7, 3, 9, 8, 8, 3, 1, 5, 8, 2, 7, 4, 2, 1, 5, 4, 5, 5, 8, 6, 4, 4, 4, 1, 8, 7, 5, 5, 1, 8, 9, 1, 3, 6, 3, 3, 2, 2, 6, 9, 9, 6, 5, 5, 3, 3, 8, 1, 6, 5, 6, 8, 1, 9, 7, 6, 8, 3, 7, 4, 7, 0, 9, 0, 0, 3, 7, 9, 3, 0, 2, 0, 1, 0, 1, 0, 4, 0, 1, 0, 4, 7, 9, 6, 2, 6, 2, 2, 9, 9, 0, 1, 2, 3, 4, 5, 6, 7, 8, 9, 0, 1, 2, 3, 4, 5, 6, 7, 8, 9, 0, 1, 2, 3, 4, 5, 6, 7, 8, 9, 8, 0, 5, 6, 6, 0, 8, 0, 2, 3, 7, 9, 4, 7, 1, 9, 1, 7, 1, 4, 0, 0, 4, 1, 7, 5, 7, 1, 3, 3, 3, 6, 6, 9, 7, 4, 3, 0, 2, 5, 2, 6, 0, 8, 9, 4, 3, 5, 4, 8, 1, 5, 9, 0, 6, 4, 3, 6, 3, 3, 8, 1, 4, 7, 5, 7, 2, 2, 0, 0, 1, 7, 7, 9, 5, 9, 8, 9, 6, 8, 8, 2, 3, 6, 1, 2, 9, 8, 9, 5, 2, 6, 2, 4, 8, 4, 6, 5, 0, 1, 5, 6, 7, 8, 9, 0, 1, 2, 3, 4, 5, 6, 7, 8, 9, 0, 1, 2, 3, 4, 5, 6, 7, 8, 9, 7, 4, 2, 0, 9, 0, 1, 5, 8, 8, 0, 2, 7, 8, 4, 4, 6, 1, 0, 4, 5, 3, 9, 4, 2, 5, 5, 0, 1, 3, 2, 9, 8, 6, 0, 1, 1, 8, 0, 4, 7, 7, 6, 3, 6, 0, 7, 3, 5, 4, 2, 4, 1, 8, 3, 5, 6, 7, 0, 6, 7, 1, 2, 5, 8, 1, 9, 3, 8, 2, 8, 7, 6, 7, 1, 4, 6, 2, 9, 3, 0, 1, 2, 3, 4, 5, 6, 7, 0, 1, 2, 3, 4, 5, 0, 1, 2, 8, 9, 1, 4, 0, 9, 5, 0, 8, 0, 7, 7, 1, 1, 2, 9, 3, 6, 7, 2, 3, 8, 1, 2, 9, 8, 8, 7, 1, 7, 1, 1, 0, 3, 4, 2, 6, 4, 7, 4, 2, 7, 4, 9, 1, 0, 6, 8, 5, 5, 5, 3, 5, 9, 7, 4, 8, 5, 9, 6, 9, 3, 0, 3, 8, 9, 1, 8, 1, 6, 0, 0, 1, 2, 3, 4, 5, 6, 9, 8, 9, 0, 1, 2, 3, 4, 5, 6, 7, 8, 9, 0, 1, 2, 3, 4, 5, 6, 7, 8, 9, 5, 5, 3, 2, 9, 3, 2, 1, 4, 5, 5, 2, 3, 2, 1, 3, 9, 7, 2, 5, 2, 8, 9, 1, 8, 8, 7, 8, 1, 0, 0, 7, 7, 8, 7, 5, 0, 6, 1, 5, 7, 4, 6, 1, 2, 5, 0, 7, 9, 9, 0, 3, 8, 4, 4, 8, 1, 8, 6, 5, 9, 0, 0, 0, 3, 7, 1, 6, 4, 2, 6, 6, 0, 4, 5, 4, 1, 3, 8, 6, 3, 9, 9, 5, 9, 3, 7, 8, 5, 6, 4, 7, 6, 2, 2, 0, 9, 4, 0, 1, 2, 3, 4, 5, 6, 7, 8, 9, 0, 1, 2, 7, 5, 6, 0, 1, 2, 3, 4, 5, 6, 8, 7, 1, 3, 2, 8, 0, 7, 5, 9, 9, 6, 0, 9, 4, 1, 3, 2, 1, 2, 3, 8, 3, 2, 6, 5, 6, 8, 2, 7, 4, 8, 1, 8, 0, 5, 3, 9, 4, 1, 9, 2, 1, 9, 6, 7, 9, 0, 4, 6, 1, 7, 3, 8, 7, 2, 9, 6, 5, 8, 3, 9, 0, 5, 7, 1, 6, 1, 0, 9, 3, 3, 4, 4, 0, 6, 2, 5, 4, 2, 3, 4, 6, 0, 0, 2, 0, 1, 4, 5, 6, 7, 8, 9, 0, 1, 2, 3, 4, 5, 6, 7, 8, 0, 1, 2, 3, 4, 5, 6, 7, 8, 9, 8, 7, 1, 3, 7, 5, 2, 8, 0, 7, 5, 9, 9, 0, 9, 1, 1, 5, 8, 8, 6, 3, 2, 1, 8, 3, 2, 6, 5, 6, 7, 4, 1, 0, 5, 3, 1, 9, 2, 1, 9, 6, 0, 4, 6, 1, 7, 3, 8, 7, 2, 9, 6, 5, 8, 3, 5, 7, 1, 6, 1, 8, 9, 6, 2, 5, 4, 2, 3, 4, 4, 6, 0, 0, 2, 0, 1, 2, 3, 9, 3, 6, 7, 8, 9, 0, 1, 2, 3, 4, 5, 6, 7, 8, 9, 0, 1, 2, 8, 4, 5, 6, 7, 8, 9, 8, 6, 5, 0, 6, 8, 9, 4, 1, 9, 5, 8, 0, 4, 8, 9, 1, 4, 0, 5, 3, 2, 1, 5, 4, 0, 7, 6, 0, 1, 7, 0, 6, 8, 9, 5, 1, 7, 9, 8, 6, 0, 8, 1, 7, 7, 1, 3, 2, 3, 1, 4, 2, 0, 0, 7, 8, 4, 6, 4, 9, 9, 8, 4, 7, 2, 5, 6, 3, 6, 9, 6, 3, 2, 2, 4, 6, 9, 0, 2, 5, 5, 1, 9, 3, 9, 7, 8, 7, 2, 2, 5, 7, 9, 8, 2, 1, 3, 1, 3, 0, 1, 2, 8, 4, 5, 6, 7, 8, 9, 0, 1, 2, 3, 4, 5, 6, 7, 8, 9, 0, 1, 2, 3, 4, 5, 6, 7, 8, 9, 1, 2, 6, 5, 3, 0, 7, 0, 4, 1, 4, 3, 6, 7, 2, 3, 1, 2, 1, 2, 9, 6, 0, 1, 3, 0, 2, 7, 5, 7, 6, 2, 9, 1, 9, 0, 6, 0, 6, 0, 2, 0, 6, 1, 5, 8, 4, 3, 0, 1, 5, 4, 4, 8, 5, 7, 5, 7, 8, 3, 4, 8, 8, 5, 2, 8, 7, 1, 3, 8, 1, 0, 7, 5, 9, 6, 9, 4, 7, 7, 5, 8, 3, 4, 4, 3, 8, 6, 2, 0, 1, 2, 3, 4, 5, 6, 7, 8, 9, 0, 1, 2, 3, 4, 5, 6, 7, 8, 9, 0, 1, 2, 3, 4, 5, 6, 7, 8, 9, 0, 8, 3, 9, 5, 5, 2, 6, 8, 4, 9, 1, 7, 1, 2, 3, 5, 9, 6, 9, 1, 1, 1, 2, 9, 5, 6, 8, 1, 2, 0, 7, 7, 5, 8, 2, 9, 8, 9, 0, 4, 6, 7, 1, 3, 4, 5, 6, 0, 3, 6, 8, 7, 0, 4, 2, 7, 4, 7, 5, 4, 3, 4, 2, 8, 1, 5, 1, 2, 0, 2, 5, 6, 4, 3, 0, 0, 0, 3, 3, 5, 7, 0, 6, 4, 8, 8, 6, 3, 4, 6, 9, 9, 8, 2, 7, 7, 1, 0, 1, 2, 3, 4, 5, 6, 7, 8, 9, 0, 1, 2, 3, 4, 5, 6, 7, 8, 0, 1, 2, 3, 4, 5, 6, 7, 8, 2, 1, 7, 2, 5, 0, 8, 0, 2, 7, 8, 8, 3, 6, 0, 2, 7, 6, 6, 1, 2, 8, 8, 7, 7, 4, 7, 7, 3, 7, 4, 5, 4, 3, 3, 8, 4, 1, 1, 9, 7, 4, 3, 7, 3, 3, 0, 2, 5, 5, 6, 6, 3, 5, 2, 5, 9, 9, 8, 4, 1, 0, 6, 0, 9, 6, 8, 8, 5, 6, 1, 1, 9, 8, 9, 2, 3, 5, 5, 9, 4, 2, 1, 9, 3, 9, 2, 0, 6, 0, 4, 0, 0, 1, 2, 3, 4, 7, 8, 9, 0, 1, 2, 3, 7, 8, 9, 0, 1, 2, 3, 4, 7, 8, 9, 7, 3, 0, 3, 1, 8, 7, 6, 4, 0, 2, 6, 8, 3, 2, 8, 1, 2, 0, 7, 1, 0, 4, 4, 5, 8, 0, 6, 2, 3, 1, 5, 1, 8, 5, 9, 4, 0, 7, 5, 8, 8, 3, 8, 9, 2, 6, 2, 5, 3, 1, 7, 3, 9, 1, 9, 9, 6, 0, 5, 9, 2, 8, 1, 4, 3, 5, 2, 9, 2, 5, 8, 9, 5, 0, 1, 2, 4, 5, 6, 5, 1, 2, 3, 4, 5, 6, 7, 1, 2, 3, 4, 5, 1, 0, 4, 5, 6, 6, 3, 4, 4, 2, 9, 1, 0, 2, 4, 8, 7, 2, 3, 3, 9, 2, 0, 9, 3, 3, 9, 8, 5, 6, 3, 1, 7, 8, 4, 0, 2, 4, 0, 2, 4, 7, 8, 0, 7, 0, 6, 9, 3, 2, 8, 6, 7, 5, 7, 5, 1, 0, 8, 1, 6, 7, 2, 9, 7, 9, 5, 8, 6, 2, 6, 2, 8, 1, 7, 5, 0, 1, 1, 3, 4, 4, 9, 9, 8, 6, 8, 5, 0, 1, 2, 3, 4, 5, 6, 7, 8, 9, 0, 1, 2, 3, 4, 7, 8, 9, 5, 1, 7, 8, 9, 9, 8, 9, 8, 4, 1, 7, 7, 3, 3, 7, 6, 6, 6, 1, 9, 0, 1, 7, 6, 3, 2, 1, 7, 1, 3, 9, 1, 7, 6, 8, 4, 1, 4, 3, 6, 9, 6, 1, 4, 4, 7, 2, 4, 4, 0, 1, 2, 3, 4, 5, 6, 7, 8, 8, 0, 1, 2, 3, 4, 5, 6, 9, 0, 1, 2, 3, 4, 7, 8, 1, 3, 5, 1, 7, 7, 2, 1, 4, 5, 3, 4, 4, 3, 9, 7, 4, 1, 2, 3, 5, 9, 1, 6, 0, 1, 0, 0, 2, 8, 7, 1, 1, 4, 0, 4, 7, 3, 6, 5, 0, 3, 7, 4, 0, 6, 9, 2, 6, 5, 8, 6, 9, 0, 4, 0, 6, 6, 8, 2, 0, 9, 5, 1, 3, 7, 6, 9, 3, 0, 2, 2, 0, 1, 2, 3, 4, 5, 6, 7, 8, 9, 0, 1, 2, 3, 4, 5, 6, 7, 8, 4, 0, 1, 2, 3, 4, 5, 6, 7, 8, 9, 2, 1, 7, 2, 5, 0, 8, 0, 2, 7, 8, 8, 3, 0, 6, 0, 2, 7, 6, 4, 1, 2, 8, 8, 7, 7, 4, 7, 7, 3, 7, 4, 5, 4, 3, 3, 8, 4, 5, 4, 1, 1, 9, 7, 4, 3, 7, 3, 3, 0, 2, 5, 5, 6, 3, 1, 5, 2, 5, 9, 9, 8, 4, 1, 0, 6, 0, 9, 6, 8, 8, 5, 6, 1, 1, 9, 8, 9, 2, 3, 5, 5, 9, 4, 2, 1, 9, 4, 9, 1, 3, 9, 2, 0, 6, 0, 4, 0, 6, 0, 1, 2, 3, 4, 5, 6, 7, 8, 9, 0, 1, 2, 3, 4, 5, 6, 7, 8, 9, 0, 1, 2, 3, 4, 5, 6, 7, 8, 9, 3, 8, 0, 7, 1, 0, 7, 5, 5, 6, 9, 0, 1, 0, 0, 8, 3, 4, 3, 1, 5, 0, 0, 9, 5, 3, 4, 9, 3, 7, 6, 9, 2, 4, 5, 7, 2, 6, 4, 9, 4, 9, 4, 1, 2, 2, 5, 8, 1, 3, 2, 9, 4, 3, 8, 2, 2, 1, 2, 8, 6, 5, 1, 6, 7, 2, 1, 3, 9, 3, 8, 7, 5, 7, 0, 7, 4, 8, 8, 5, 0, 6, 6, 3, 7, 6, 9, 9, 4, 8, 4, 1, 0, 6, 6, 0, 1, 2, 3, 4, 5, 6, 7, 8, 9, 0, 1, 2, 3, 4, 5, 6, 7, 8, 9, 0, 1, 2, 3, 4, 5, 6, 7, 8, 9, 7, 4, 0, 4, 0, 1, 7, 9, 5, 1, 4, 2, 8, 9, 4, 3, 7, 8, 2, 4, 4, 3, 3, 6, 9, 9, 5, 8, 6, 7, 0, 6, 8, 2, 6, 3, 9, 3, 2, 8, 6, 1, 7, 4, 8, 8, 9, 0, 3, 3, 9, 0, 5, 2, 9, 4, 1, 0, 3, 7, 5, 8, 7, 7, 8, 2, 9, 7, 1, 2, 6, 4, 2, 5, 2, 3, 6, 6, 5, 0, 0, 2, 8, 1, 6, 1, 0, 4, 3, 1, 6, 1, 9, 0, 1, 4, 5, 6, 7, 8, 9, 1, 2, 3, 9, 5, 6, 7, 0, 1, 2, 3, 4, 5, 6, 7, 8, 9, 8, 4, 0, 0, 7, 2, 4, 3, 8, 6, 6, 3, 2, 6, 3, 3, 3, 1, 4, 7, 8, 0, 3, 1, 9, 0, 1, 9, 1, 2, 7, 0, 1, 3, 8, 2, 9, 2, 7, 6, 5, 5, 9, 9, 8, 2, 9, 1, 3, 2, 3, 4, 3, 1, 9, 0, 9, 3, 5, 8, 7, 0, 1, 0, 5, 8, 2, 7, 7, 0, 1, 2, 3, 4, 5, 6, 7, 8, 9, 0, 1, 2, 3, 4, 5, 6, 7, 8, 9, 0, 1, 2, 3, 4, 5, 6, 7, 8, 9, 1, 7, 4, 8, 1, 5, 6, 5, 7, 2, 8, 6, 3, 3, 8, 6, 5, 4, 0, 9, 1, 7, 2, 9, 1, 5, 1, 3, 2, 2, 3, 0, 6, 4, 3, 7, 6, 9, 0, 4, 8, 1, 4, 0, 6, 1, 2, 6, 9, 2, 2, 3, 5, 5, 1, 0, 7, 7, 9, 6, 2, 9, 4, 7, 0, 2, 3, 4, 0, 0, 8, 8, 8, 5, 1, 3, 7, 4, 9, 8, 8, 9, 0, 9, 8, 9, 0, 2, 6, 5, 6, 7, 4, 7, 5, 4, 1, 3, 5, 3, 1, 2, 3, 4, 5, 6, 1, 2, 3, 4, 6, 0, 1, 2, 4, 5, 6, 7, 8, 1, 7, 2, 4, 1, 4, 1, 4, 9, 6, 8, 4, 5, 3, 7, 8, 4, 3, 3, 5, 6, 7, 0, 6, 1, 6, 8, 7, 0, 1, 5, 0, 8, 5, 0, 1, 5, 8, 4, 2, 3, 9, 7, 6, 9, 1, 9, 0, 6, 7, 1, 2, 3, 9, 2, 4, 5, 5, 3, 7, 5, 3, 1, 8, 2, 2, 3, 0, 2, 9, 4, 9, 7, 0, 2, 7, 4, 9, 9, 2, 5, 9, 8, 3, 8, 6, 7, 0, 0, 1, 2, 3, 4, 5, 6, 7, 8, 9, 0, 1, 2, 3, 4, 5, 6, 7, 8, 9, 0, 1, 2, 3, 4, 5, 6, 7, 8, 9, 0, 0, 7, 2, 6, 5, 5, 3, 7, 8, 6, 6, 6, 6, 4, 3, 8, 8, 3, 0, 1, 9, 0, 5, 4, 1, 9, 1, 2, 7, 0, 1, 3, 8, 2, 9, 2, 7, 4, 2, 6, 5, 5, 9, 9, 1, 1, 5, 7, 6, 8, 2, 9, 4, 3, 1, 9, 0, 9, 3, 6, 8, 7, 0, 1, 0, 5, 8, 2, 7, 7, 0, 1, 2, 3, 4, 5, 6, 7, 8, 9, 0, 1, 2, 3, 4, 5, 8, 9, 0, 1, 2, 3, 4, 5, 6, 7, 8, 9, 2, 1, 2, 1, 3, 9, 9, 8, 5, 3, 7, 0, 7, 7, 5, 7, 9, 9, 4, 7, 0, 3, 4, 1, 5, 8, 1, 4, 8, 4, 1, 8, 6, 6, 4, 6, 0, 5, 5, 3, 3, 5, 7, 2, 5, 9, 6, 9, 2, 6, 2, 1, 2, 0, 8, 3, 8, 3, 0, 8, 7, 4, 9, 5, 0, 9, 7, 0, 0, 4, 6, 0, 9, 1, 6, 2, 7, 6, 8, 3, 5, 2, 1, 8, 3, 8, 6, 1, 0, 2, 1, 4, 0, 1, 2, 3, 4, 5, 6, 7, 8, 9, 0, 1, 2, 3, 4, 5, 6, 7, 8, 9, 0, 1, 2, 3, 4, 5, 6, 7, 8, 9, 7, 6, 4, 7, 6, 2, 3, 4, 8, 7, 8, 6, 9, 8, 3, 2, 2, 8, 4, 8, 5, 6, 5, 0, 2, 0, 1, 1, 2, 9, 6, 8, 2, 1, 0, 6, 5, 2, 9, 7, 5, 3, 9, 3, 7, 1, 8, 3, 8, 1, 9, 5, 5, 0, 1, 1, 9, 8, 2, 6, 0, 4, 5, 0, 3, 1, 8, 6, 7, 5, 9, 9, 3, 0, 3, 1, 4, 4, 0, 4, 9, 0, 1, 2, 3, 5, 6, 7, 8, 0, 1, 2, 3, 5, 6, 7, 8, 9, 0, 8, 2, 3, 5, 6, 7, 8, 9, 9, 7, 0, 9, 0, 1, 5, 8, 8, 0, 9, 3, 2, 7, 8, 4, 6, 1, 0, 4, 9, 4, 4, 0, 5, 0, 1, 6, 9, 3, 2, 9, 1, 6, 0, 8, 1, 8, 8, 7, 6, 3, 6, 0, 7, 2, 4, 1, 7, 0, 6, 8, 1, 2, 5, 8, 1, 8, 2, 8, 7, 6, 8, 7, 1, 6, 2, 9, 3, 0, 1, 2, 3, 4, 5, 6, 7, 8, 9, 0, 1, 2, 3, 4, 5, 6, 7, 8, 9, 0, 1, 2, 3, 4, 5, 6, 7, 8, 9, 8, 9, 5, 7, 0, 3, 1, 6, 8, 4, 1, 5, 6, 4, 2, 7, 8, 1, 3, 4, 3, 4, 7, 2, 0, 5, 0, 1, 9, 2, 3, 2, 3, 5, 5, 7, 8, 4, 9, 9, 7, 1, 1, 9, 0, 7, 8, 3, 4, 8, 6, 3, 8, 0, 9, 6, 2, 8, 0, 1, 0, 6, 2, 3, 8, 9, 0, 7, 2, 3, 4, 5, 5, 2, 8, 5, 4, 6, 6, 6, 7, 9, 1, 8, 2, 1, 5, 3, 4, 7, 9, 4, 0, 0, 0, 1, 2, 3, 4, 5, 6, 7, 8, 9, 0, 1, 2, 3, 4, 5, 6, 7, 8, 9, 0, 1, 2, 3, 4, 5, 6, 9, 0, 1, 3, 1, 5, 1, 2, 4, 9, 8, 4, 6, 8, 0, 1, 1, 9, 2, 6, 6, 8, 7, 4, 2, 9, 7, 0, 2, 1, 0, 3, 6, 0, 1, 2, 3, 4, 5, 6, 7, 8, 9, 0, 1, 2, 3, 4, 5, 6, 7, 8, 9, 0, 1, 2, 3, 4, 5, 6, 7, 8, 9, 8, 6, 5, 9, 7, 0, 2, 3, 4, 3, 8, 5, 1, 5, 2, 3, 0, 1, 2, 1, 3, 2, 6, 5, 3, 0, 7, 2, 7, 4, 6, 4, 0, 5, 9, 9, 5, 9, 5, 3, 1, 7, 4, 7, 6, 5, 4, 0, 0, 6, 6, 2, 0, 6, 3, 7, 7, 4, 4, 3, 9, 2, 8, 9, 6, 0, 9, 5, 3, 8, 8, 7, 1, 4, 0, 4, 8, 5, 2, 3, 9, 0, 1, 9, 1, 5, 1, 7, 4, 8, 6, 2, 1, 6, 8, 8, 0, 1, 2, 5, 4, 7, 8, 9, 0, 1, 2, 3, 5, 6, 7, 8, 9, 0, 1, 2, 3, 4, 7, 8, 9, 1, 4, 5, 3, 3, 0, 9, 5, 4, 8, 0, 8, 4, 6, 7, 0, 7, 7, 1, 6, 9, 1, 3, 6, 2, 3, 8, 2, 3, 8, 9, 5, 8, 8, 7, 1, 7, 1, 1, 0, 3, 4, 2, 6, 4, 7, 4, 2, 7, 4, 2, 9, 2, 7, 9, 2, 1, 6, 6, 5, 3, 4, 8, 5, 9, 6, 9, 0, 6, 3, 0, 8, 1, 6, 0, 0, 1, 2, 3, 4, 5, 6, 7, 0, 1, 2, 3, 4, 7, 8, 9, 0, 1, 2, 3, 4, 7, 2, 5, 1, 6, 4, 3, 9, 9, 0, 9, 7, 1, 6, 4, 3, 6, 2, 0, 9, 8, 6, 5, 7, 0, 0, 1, 7, 4, 3, 2, 4, 1, 3, 7, 6, 4, 7, 7, 7, 9, 8, 4, 3, 8, 2, 8, 3, 5, 5, 0, 5, 4, 7, 1, 3, 1, 7, 9, 6, 2, 0, 4, 1, 7, 3, 3, 9, 1, 6, 4, 3, 9, 8, 2, 1, 8, 6, 4, 1, 5, 5, 6, 5, 0, 1, 2, 3, 4, 5, 6, 7, 8, 9, 0, 1, 2, 3, 4, 5, 6, 7, 8, 9, 0, 1, 2, 3, 4, 5, 6, 7, 8, 9, 6, 9, 7, 0, 2, 3, 4, 3, 8, 5, 1, 3, 0, 1, 2, 1, 3, 2, 0, 7, 2, 6, 4, 0, 5, 9, 9, 8, 9, 5, 3, 1, 7, 4, 7, 0, 0, 6, 6, 6, 3, 3, 4, 2, 8, 9, 8, 7, 1, 4, 0, 4, 8, 5, 2, 3, 9, 0, 1, 9, 1, 5, 1, 7, 6, 1, 2, 1, 6, 8, 0, 1, 2, 3, 4, 5, 6, 7, 8, 9, 0, 1, 2, 3, 4, 5, 6, 7, 8, 0, 1, 2, 3, 5, 6, 7, 8, 1, 0, 4, 5, 6, 6, 3, 4, 4, 2, 8, 1, 0, 6, 4, 9, 7, 2, 9, 2, 0, 9, 3, 3, 9, 1, 5, 2, 3, 1, 6, 7, 3, 7, 8, 4, 0, 2, 4, 0, 2, 4, 7, 8, 0, 7, 0, 6, 9, 3, 2, 4, 8, 6, 0, 5, 7, 5, 1, 0, 8, 1, 6, 7, 2, 9, 7, 9, 5, 6, 5, 2, 6, 2, 8, 1, 7, 5, 5, 7, 3, 5, 0, 1, 1, 3, 8, 4, 9, 4, 5, 1, 8, 6, 8, 9, 0, 1, 2, 3, 4, 5, 6, 7, 8, 9, 0, 1, 2, 3, 4, 5, 6, 7, 8, 9, 0, 1, 2, 3, 4, 5, 6, 7, 8, 9, 3, 5, 3, 2, 9, 3, 2, 1, 4, 5, 5, 2, 3, 2, 1, 3, 9, 7, 2, 1, 2, 8, 9, 1, 8, 8, 7, 8, 1, 0, 0, 6, 7, 7, 8, 7, 5, 0, 6, 1, 5, 7, 4, 6, 1, 2, 5, 0, 7, 9, 9, 0, 3, 4, 4, 8, 4, 1, 8, 6, 5, 9, 0, 0, 0, 3, 7, 1, 6, 4, 6, 0, 4, 5, 4, 1, 3, 8, 6, 3, 9, 9, 5, 9, 3, 7, 8, 5, 6, 4, 7, 6, 2, 2, 0, 9, 4, 0, 1, 2, 3, 4, 5, 6, 7, 8, 9, 0, 1, 2, 3, 4, 5, 6, 7, 8, 9, 0, 1, 2, 3, 4, 5, 6, 7, 8, 9, 6, 4, 2, 6, 4, 7, 5, 5, 4, 7, 2, 9, 3, 9, 3, 8, 2, 0, 9, 5, 6, 0, 1, 0, 6, 5, 3, 5, 3, 8, 0, 0, 3, 4, 1, 5, 3, 0, 8, 3, 0, 6, 2, 7, 8, 1, 7, 1, 3, 8, 5, 4, 2, 0, 9, 7, 6, 7, 4, 1, 6, 2, 6, 7, 1, 9, 8, 0, 6, 9, 4, 9, 9, 6, 2, 3, 7, 1, 9, 2, 2, 5, 3, 7, 8, 0, 1, 2, 3, 4, 7, 8, 9, 0, 1, 2, 3, 4, 7, 8, 9, 0, 1, 7, 8, 9, 8, 9, 2, 6, 1, 3, 5, 4, 8, 2, 6, 4, 3, 4, 5, 9, 2, 0, 3, 9, 4, 9, 7, 3, 8, 7, 4, 4, 9, 8, 5, 8, 2, 6, 6, 2, 3, 1, 3, 2, 7, 3, 1, 9, 0, 1, 1, 3, 5, 0, 7, 8, 1, 5, 1, 4, 6, 0, 0, 4, 9, 1, 6, 6, 9, 0, 7, 6, 1, 1, 0, 1, 2, 3, 4, 2, 2, 3, 4, 5, 6, 2, 5, 1, 2, 2, 8, 6, 3, 9, 2, 1, 9, 3, 9, 6, 1, 7, 2, 4, 4, 5, 7, 0, 0, 1, 6, 6, 8, 2, 7, 7, 2, 4, 2, 1, 6, 1, 0, 6, 9, 8, 3, 9, 6, 3, 0, 1, 2, 3, 4, 5, 6, 7, 8, 9, 0, 8, 2, 3, 4, 5, 6, 7, 8, 9, 0, 1, 2, 3, 4, 5, 6, 7, 8, 9, 1, 6, 8, 9, 9, 0, 1, 2, 4, 4, 3, 7, 4, 4, 4, 0, 3, 8, 7, 5, 8, 2, 1, 7, 5, 3, 8, 5, 2, 5, 1, 1, 6, 2, 1, 3, 8, 6, 4, 2, 6, 2, 5, 5, 0, 2, 8, 0, 6, 8, 1, 7, 9, 1, 9, 2, 6, 7, 6, 6, 8, 7, 4, 9, 2, 1, 3, 3, 0, 5, 5, 8, 0, 3, 7, 9, 7, 0, 8, 7, 9, 1, 7, 8, 0, 3, 5, 3, 6, 0, 1, 2, 3, 4, 5, 6, 7, 8, 9, 0, 1, 2, 3, 4, 5, 6, 7, 8, 9, 0, 1, 2, 3, 4, 7, 8, 9, 6, 4, 2, 6, 4, 7, 8, 9, 2, 9, 3, 9, 3, 0, 0, 1, 0, 4, 2, 6, 3, 5, 3, 0, 3, 4, 1, 5, 3, 0, 8, 3, 0, 6, 1, 7, 8, 0, 9, 2, 6, 7, 1, 9, 6, 9, 5, 9, 9, 6, 7, 1, 2, 5, 3, 7, 8, 0, 1, 2, 4, 5, 6, 7, 8, 9, 0, 1, 3, 4, 5, 6, 7, 5, 0, 1, 3, 4, 7, 8, 9, 7, 5, 5, 1, 9, 9, 7, 1, 0, 0, 5, 9, 7, 1, 7, 2, 2, 3, 6, 8, 3, 2, 0, 0, 6, 1, 7, 5, 8, 6, 2, 9, 4, 8, 8, 7, 1, 0, 8, 7, 7, 5, 8, 5, 3, 4, 6, 1, 1, 5, 5, 0, 7, 2, 3, 6, 4, 1, 2, 4, 1, 5, 4, 2, 0, 4, 8, 6, 1, 9, 0, 2, 5, 6, 9, 3, 6, 3, 6, 0, 1, 2, 3, 4, 5, 6, 7, 8, 9, 0, 1, 2, 3, 4, 5, 6, 7, 8, 9, 0, 1, 2, 3, 5, 6, 7, 8, 1, 0, 9, 5, 7, 5, 1, 8, 6, 9, 0, 4, 1, 9, 3, 8, 4, 4, 7, 0, 1, 9, 2, 8, 7, 8, 2, 5, 9, 6, 6, 6, 3, 5, 3, 3, 3, 9, 8, 1, 1, 0, 6, 1, 0, 0, 6, 2, 1, 1, 3, 2, 7, 7, 8, 8, 7, 8, 4, 6, 0, 2, 0, 7, 0, 3, 6, 8, 7, 1, 5, 9, 9, 3, 7, 2, 4, 9, 4, 3, 6, 2, 2, 5, 3, 2, 5, 5, 9, 4, 1, 7, 2, 0, 1, 2, 3, 4, 5, 6, 7, 8, 9, 0, 1, 2, 3, 4, 5, 6, 7, 8, 9, 0, 1, 2, 3, 4, 5, 6, 7, 8, 9, 1, 0, 1, 2, 7, 5, 3, 4, 4, 0, 0, 6, 9, 6, 6, 5, 7, 2, 3, 4, 9, 9, 1, 4, 0, 7, 9, 5, 7, 2, 3, 1, 4, 4, 0, 9, 9, 6, 1, 8, 3, 3, 7, 3, 9, 8, 8, 4, 7, 7, 6, 2, 1, 9, 8, 7, 8, 8, 7, 2, 2, 3, 9, 3, 3, 5, 5, 0, 7, 4, 5, 6, 5, 1, 4, 1, 1, 2, 8, 2, 6, 1, 5, 0, 1, 2, 3, 4, 5, 6, 7, 8, 9, 0, 1, 2, 3, 4, 5, 6, 7, 8, 9, 0, 1, 2, 3, 4, 5, 6, 7, 8, 8, 0, 6, 0, 3, 2, 3, 7, 9, 4, 7, 1, 9, 1, 7, 1, 4, 0, 0, 1, 7, 5, 7, 1, 3, 3, 3, 1, 6, 9, 7, 1, 3, 0, 7, 6, 0, 8, 9, 5, 3, 5, 4, 8, 1, 5, 9, 0, 6, 5, 3, 8, 1, 4, 7, 5, 2, 0, 0, 1, 7, 8, 9, 6, 8, 8, 2, 3, 5, 1, 2, 9, 5, 2, 0, 1, 2, 3, 4, 5, 6, 7, 8, 9, 0, 1, 3, 3, 4, 5, 6, 7, 8, 9, 0, 1, 3, 3, 4, 6, 6, 7, 8, 9, 7, 4, 6, 1, 4, 0, 9, 9, 8, 7, 8, 6, 7, 5, 8, 6, 3, 2, 2, 0, 5, 5, 6, 0, 3, 8, 1, 0, 3, 0, 4, 7, 4, 9, 2, 9, 0, 7, 1, 7, 1, 6, 6, 5, 6, 2, 8, 7, 6, 4, 9, 9, 5, 3, 7, 4, 3, 0, 1, 6, 6, 1, 1, 3, 2, 1, 0, 0, 1, 2, 3, 4, 7, 8, 4, 0, 1, 8, 3, 4, 5, 6, 7, 8, 0, 1, 2, 3, 4, 7, 8, 9, 0, 8, 3, 9, 5, 5, 2, 6, 8, 4, 1, 7, 1, 3, 3, 5, 6, 9, 1, 1, 1, 2, 1, 2, 0, 7, 7, 5, 8, 2, 9, 8, 8, 7, 3, 4, 6, 8, 7, 0, 4, 2, 7, 7, 5, 4, 3, 4, 2, 8, 1, 5, 1, 0, 2, 3, 3, 5, 7, 0, 6, 8, 6, 3, 9, 9, 8, 2, 7, 7, 1, 0, 1, 7, 8, 9, 0, 1, 5, 3, 4, 5, 6, 7, 8, 0, 1, 2, 3, 4, 7, 8, 9, 7, 8, 6, 4, 1, 9, 3, 8, 4, 4, 7, 0, 1, 9, 2, 8, 7, 8, 2, 6, 0, 6, 5, 3, 3, 3, 9, 1, 4, 0, 6, 1, 0, 0, 6, 2, 1, 1, 7, 7, 8, 4, 6, 0, 7, 0, 3, 6, 8, 7, 1, 5, 2, 4, 9, 4, 3, 8, 4, 1, 7, 2, 6, 5, 0, 1, 2, 3, 4, 5, 6, 7, 8, 9, 0, 1, 2, 3, 4, 5, 6]\n"
     ]
    }
   ],
   "source": [
    "print(y_pred_labels)"
   ]
  },
  {
   "cell_type": "markdown",
   "metadata": {
    "id": "5d7LUqsIyzqb"
   },
   "source": [
    "y_test --> True labels\n",
    "\n",
    "y_pred_labels --> Predicted labels"
   ]
  },
  {
   "cell_type": "code",
   "execution_count": 44,
   "metadata": {
    "id": "DnAYjygyy7wc"
   },
   "outputs": [],
   "source": [
    "#Matriz de confusion\n",
    "conf_mat=confusion_matrix(Y_test,y_pred_labels)"
   ]
  },
  {
   "cell_type": "code",
   "execution_count": 46,
   "metadata": {
    "colab": {
     "base_uri": "https://localhost:8080/"
    },
    "id": "lC798YdUzRsP",
    "outputId": "554a8567-29fe-4661-bdf0-e564200c58dc"
   },
   "outputs": [
    {
     "name": "stdout",
     "output_type": "stream",
     "text": [
      "tf.Tensor(\n",
      "[[ 961    0    0    2    1    6    3    1    4    2]\n",
      " [   0 1118    3    1    0    2    2    1    7    1]\n",
      " [   2    1  992    9    4    2    3    5   13    1]\n",
      " [   0    0    3  977    1   13    0    3    8    5]\n",
      " [   0    1    2    0  960    3    6    0    0   10]\n",
      " [   1    0    0    8    1  874    4    0    3    1]\n",
      " [   3    1    3    0    4   13  927    1    6    0]\n",
      " [   0    4   11    3    2    0    0  982   12   14]\n",
      " [   0    0    1    5    3    8    0    1  954    2]\n",
      " [   0    2    0    5   17    8    2    2   10  963]], shape=(10, 10), dtype=int32)\n"
     ]
    }
   ],
   "source": [
    "print(conf_mat)"
   ]
  },
  {
   "cell_type": "code",
   "execution_count": 48,
   "metadata": {
    "colab": {
     "base_uri": "https://localhost:8080/",
     "height": 636
    },
    "id": "qGBoJOHQzcyD",
    "outputId": "9b0f8c22-fb5d-421d-e66a-609b4599c1e9"
   },
   "outputs": [
    {
     "data": {
      "text/plain": [
       "Text(0.5, 47.7222222222222, 'Predicted labels')"
      ]
     },
     "execution_count": 48,
     "metadata": {},
     "output_type": "execute_result"
    },
    {
     "data": {
      "image/png": "[encoded data removed]",
      "text/plain": [
       "<Figure size 1500x700 with 2 Axes>"
      ]
     },
     "metadata": {},
     "output_type": "display_data"
    }
   ],
   "source": [
    "plt.figure(figsize=(15,7))\n",
    "sns.heatmap(conf_mat,annot=True ,fmt='d', cmap='Blues')\n",
    "plt.ylabel=('True labels')\n",
    "plt.xlabel('Predicted labels')\n"
   ]
  },
  {
   "cell_type": "code",
   "execution_count": 1,
   "metadata": {
    "colab": {
     "base_uri": "https://localhost:8080/"
    },
    "id": "lCe_u6Rzzxkr",
    "outputId": "12f9a332-a008-40ef-92e2-9b19436e8400"
   },
   "outputs": [
    {
     "ename": "NameError",
     "evalue": "name 'cv2' is not defined",
     "output_type": "error",
     "traceback": [
      "\u001b[1;31m---------------------------------------------------------------------------\u001b[0m",
      "\u001b[1;31mNameError\u001b[0m                                 Traceback (most recent call last)",
      "Cell \u001b[1;32mIn[1], line 3\u001b[0m\n\u001b[0;32m      1\u001b[0m \u001b[38;5;66;03m#construyendo un sistema predictivo\u001b[39;00m\n\u001b[0;32m      2\u001b[0m input_image_path\u001b[38;5;241m=\u001b[39m\u001b[38;5;124m'\u001b[39m\u001b[38;5;124m/content/5.jpeg\u001b[39m\u001b[38;5;124m'\u001b[39m\n\u001b[1;32m----> 3\u001b[0m input_image\u001b[38;5;241m=\u001b[39m\u001b[43mcv2\u001b[49m\u001b[38;5;241m.\u001b[39mimread(input_image_path)\n\u001b[0;32m      4\u001b[0m input_image\u001b[38;5;241m.\u001b[39mshape\n",
      "\u001b[1;31mNameError\u001b[0m: name 'cv2' is not defined"
     ]
    }
   ],
   "source": [
    "#construyendo un sistema predictivo\n",
    "input_image_path='/content/5.jpeg'\n",
    "input_image=cv2.imread(input_image_path)\n",
    "input_image.shape"
   ]
  },
  {
   "cell_type": "code",
   "execution_count": 54,
   "metadata": {
    "id": "VTruYJUE0-Kr"
   },
   "outputs": [],
   "source": [
    "input_image=255-input_image"
   ]
  },
  {
   "cell_type": "code",
   "execution_count": 56,
   "metadata": {
    "colab": {
     "base_uri": "https://localhost:8080/",
     "height": 324
    },
    "id": "1ubG7C6j0_ov",
    "outputId": "dda1cd33-fa13-4443-debc-02b55c3317d7"
   },
   "outputs": [
    {
     "data": {
      "text/html": [
       "<style>\n",
       "      .ndarray_repr .ndarray_raw_data {\n",
       "        display: none;\n",
       "      }\n",
       "      .ndarray_repr.show_array .ndarray_raw_data {\n",
       "        display: block;\n",
       "      }\n",
       "      .ndarray_repr.show_array .ndarray_image_preview {\n",
       "        display: none;\n",
       "      }\n",
       "      </style>\n",
       "      <div id=\"id-1e1be479-128c-4d47-bc1e-52a82126ce88\" class=\"ndarray_repr\"><pre>ndarray (284, 267, 3) <button style=\"padding: 0 2px;\">show data</button></pre><img src=\"data:image/png;base64,iVBORw0KGgoAAAANSUhEUgAAAQsAAAEcCAIAAABf5AYmAABX3klEQVR4nO19eZwU5bX2W9X7Nj37xgwjCIOgrIKIIKBgEGfCVSLBKIpilCRXY25ys3yJ2Zebm5hw+ZkQoxBJQsTI5RrjgmMUiIFEQkAREEEUYViGbdburuqu7qrvj4c6vtMzzNJTvU49f/Brerqra3nPe7bnnCO43W5mwoSJi0BM9wmYMJHRMCXEhImeYEqICRM9wZQQEyZ6gikhJkz0BFNCTJjoCaaEmDDRE0wJMWGiJ5gSYsJETzAlxISJnmBKiAkTPcGUEBMmeoIpISZM9ARTQkyY6AmmhJgw0RNMCTEYgiBomqaqqqZDEASr1Up/xZ8YY6qqCoKQ1pM1wfAsukJVVbwQzAqqZEAQBFEUNU2LxWIQCZvNBmmhz+C/F3tCJlIDegRxD8Jms0WjUcaYNT3nlbvgdYggCFAgeDMWi+G/0C3MVCOZgbh9Ck8kFAoJgmCxWEwJMRgaB4vFYrVaLRaLxWKJRCKqqkJ3Q4SgZEwJSS9INvAg6HG4XC673W6z2UwJMRikOkQdjLFoNApNEolEmP4Y8CcTmYA465cxJoqiqqqSJJkPyWDQvcaN5v9rs9kYY7FYjOmqJk3naKJ7kPJXVdVms6mqGovFTB1iMOKsJugTTdMURbHb7YyxWCxmsViY/jxMKyu9wNPhbS3odlEUYR6bEmIwVFXFncUtZoxFo1FFUeCWkH1FL0xNkgkgywpPTRTFaDQqCEIsFjOjvQkCSxwmE9IdeC0Igsvl4k0si8WiaVo4HKYYF38EU0JSj7g7L4piJBKxWq2iKLpcLuxxCDwKgmDqkAQRjUZhNSmKAkccvh08cpIEiA0sqzhhME2sdIFPgFgsFkVREHJ0uVySJDHGrFZrLBbDjmZKSIKwWCzIKNntdkEQoJRdLhfviGMTQpC3W41hKpA0Ak8Eu5vNZoNIILEbjUbpHTOWlSDI2xZF0WazWa1W3Ghy++Dz4V8oEFMeMgf0XKxWq8vlQnIwEonYbDa8priWqUMSBPaeWCymKIooim63W1VVpDuYrhxisRj0TNeUrSkt6UKcH+jxeKA0rFZrNBqVZRn2czQahfI3dUjigBaOo2AxPWUe09GtMJgeSBpB+oHpu5goivBGsKNFIhEyBEwdkiBEUYzFYqIoOp1Oq9UaDodjsZjdbifCFfkhlBLpliFnIvUgEwtuOv6LR2a1WlVVxZv4sCkhCULTNLvdjhgI7Td0i3nmFe+1k5CYOiTF4DcsxpjFYrHZbHh2iqKEw2GPxwMTIBwO2+12Cq6YEtI7yJTCHaSFbrfbZVlGtMpisXi93ubmZovFgpgv3WIE1xljiqJQNgqePb9XmUg2KA+oaZrP5+vo6GCMQU5EUQwGg9FoFJJD1jIzK6h6BVE+oRYAnsoejUZhyFosFo/Hgw8jARKLxWCAgcjAU31h/prikTLwSSpkePEQ4ZEjfsWzgeiLpg7pBXFhKOKSMMai0Si4JNicgsGgw+GQJAnGFe478UpIrkBtwAe6phFNDBDdWrAX4rZWK5K8jDFSF9jp8FC6LWgzJaRPIEOLHA+HwwFjCUJCoV6IAdPpJ8FgEF+BwCC6Re+Y4mE4uhUPvEDaiuLvkBZ+w4oLBAOmldULYCDxmldV1Wg02traiqKoYDAYCoUYY7FYLBAIMMbcbjeI7rIsI8CF92FlYaOidHvaLmxwgBcP8K/wUCAD4XAYT0FRFIrLx2kSU4f0AvLOqS7qAuVT90/gwcOpQAg4GAza7faamprW1ta2tjZwGbB1wUJDtoTiKiYMRNeSWnpSiO0yxkjb46EwPYXFx+XNaG9fgaAt9n7GKWXGWCQSIWIi1Aj0uCAIdXV1ixYtOnny5GuvvbZr164zZ864XK5IJALzl+l0lW4NXxMDQVfxoPuMZ+d0OiVJikQikBk8wTjwO5cpIb0D1hFjjM+ax7GtHA6HIAiyLFut1jFjxtx111033nijoijz58/fsWPH1q1bN2/efObMmXA4TCxgZnZySBpICeAxwZSKxWKRSMTr9eI5kgIhHhBZWfzOZdaH9AJN07xer9VqbWlpQaLD7XYjwgufmzw/KIeCgoIvfOELy5cvdzqdJEKnT5/etWvXtm3bnn/++cOHD0NIFEWBuwJ5UxQF3j/+m2zdAt1ISyEuucmngHA+sViMqoh5jxYxonA4TAvRbrdHIhEcHL/CdP5/alwv+hW73W632xVFCYVCCGThPsMkxsd63aFMCekdDofDbrfDjoJTgR0IFDc8e9xrRVEWLlz4yCOPVFRUYBmFw2GXy4V1f/r06ffee6+hoWHDhg1HjhwBpRQrLxwOk3iwlDR5oAjEBY43Jy20wnguBmPsApNPFHG9iFzzhgp2BNwWpEdxHDIs8ZVkXxr5EmBbM8bgflDJJ7mRfSE3mBLSO0RRpMggUT6xVlB9Lsuyw+GIxWIjR458/PHHp06dSo44ZQ/xeVVVm5ub33777fXr17/44otnzpxxOp2MMU3T4D4WFBSgiCfZey1PhCF3lpQDCSq/xCHAFBSCupBlGZfmcrmwPTscDrAAoXkgFXziNZXXhcC6oFfpUMKX/3DPBzQlpE8gGg/o7lQ7FQqFyAPxer0/+MEPPve5z0mS5HK5GGNYHGRpSJLkcDhQhxAKhV5//fXf//73DQ0NMItRidXW1ubxeMihTx4odEPv8IY408N0ODda4vgA9KfT6czPz58xY8acOXOGDBmybt26TZs2CYKAm0PcTcYJWOobIEFIoAPpwXUNWPV0BFNC+giwErACwKeiFQZlUldX9/vf/x7GLqkOMp+ojQO0EIQtGAy+9NJLK1eu3Lt3L2MM9hsfTU42eN+U91Ap6UnXjq0hFovl5eWNHj362muvvf766ydMmOB2u6FgZVn+61//+tOf/nTbtm0ejwc1mPgiDB4qFkjBdfEXCFPQZrMhlthtSLcHmBLSC3CLyaUDTwE3GlkOhKfy8/P//ve/Dxs2DO47kRTJGIuLPAp6iyCLxdLS0vKjH/1o7dq1gUDA5XKFw2EizyX70kjIqR8kpFfQWUw4f7vdPnr06GuuuWbevHkTJkwoKirChUA5RCIR8s7Pnz//61//etWqVS0tLQgcaZqGbYKlkPlPq59+kYqiTAkxGAhSwV7C6ifTPBKJIBDc0dGxevXqZcuWwf6GUDHGKKRDiUJqwcg68+esVuuWLVu+/vWvv/322zabTZblZFtZjHM2GKdMYLhbrVa/3z98+PApU6bMnDlz3LhxRUVFdMK8UEFXUEdJiMqrr77605/+dM+ePbIsk/BALyXb0OJlgw/jxlHg+q7NTAnpHdhQoaZJTmBCYE+66aab1q1bB3sXYoDVQLEdRFSYbouTnPCml9VqPXPmzKOPPrpu3brTp0+nwBrBSdpsNrfb7fV68/Ly3G73xIkTx4wZM2XKlFGjRuXl5UGAcSE4bVJuFDAlGYPM4CYcPnz4Bz/4QUNDA1x5/JX2l+SBvCYKx9G58d6UKSGGwWKxIA9IJhPpEMR8KysrN2zYMGnSJDKf+nV8WnkUHv3zn/+8YsWKvXv3hkIhatNIhVldfWsKv/KLlXHt6mhB4IRtNlteXl5eXp7X6y0qKqqqqho1atT48eMvu+yy0tLShNdD1zjY2bNnH3nkkaeeeur8+fOkhxHsQkrb4XAg1EFBggyEKSG9gOxyYl4x3YVF/Or//b//d++99xYWFvKBoL6D5IpiqaFQ6ODBgz/72c+2b9/e1NQEHxfKCh4OteRijPFVo3xsivwKnLPb7S4sLCwqKiooKBgyZEh1dfWYMWNqamqGDx9eUFDAX2bCKzXui6IoyrKsKMoTTzzxyCOPtLe3Q87Jr8MVwf5JS5irjzAlpBcgDou2oijOpACoqqpz5sx59NFHq6ur0QcosZ/A0mGdI7BHjx799a9//eyzzx4/fhxdahhjiLHCckO8i6dCUhQBWqKsrKysrCw/P7+ysrKmpqaysrKqqqq6urq0tNTpdHbbPtjAWBM5J7Is/+IXv1i5cmVra6umlwbgejNZMAgmL6sXwDyADa3ppYWwFoYOHbpkyZKSkhI+CtRfORH0Kisy62FN1dTUPPjgg1VVVWvXrj1w4AAOCyce54CuEcgW2+32wsLCysrKioqKsrKyysrKkpKS8vLy8vLyIUOGFBcXezweKt5ievSJToDXPEZJCLYMmI6f+cxnnE7n9773vdbWVhJ1qrTRUsKySRimhPQOVe81inICh8MBHTJ37tzrr78e/CvGNXXvL/iaRKoFVVW1rKxsyZIlBQUFK1eu3LVrF4LLsMT8fj9URHl5eU1NTUVFRVFRUYkOxJ0o7SjozFZBZyIRWYbpXizj2p4PECRjFKIQRfGWW27p6Oj48Y9/DCuRKslgu2Yyg9OUkF5AQRjswTabTVGUSCQyfvz4xYsXFxcXYyNEpVQCT5qMnLhSLVhxbre7rq6upKSkoaGhvb29qqqqtLQ0Pz+/qKgoLy/P4/HA53Y6nUjJIyuHUyKlRD8h6MPieGIymWp0PgO/Y9hNiH5isVhKS0tvueWWY8eOrVmzJhKJwFaEcYj7NsAfTR5MCekFZKAj4ItIbnFx8cKFC6+66iqhS1veBDx1PgxFoqLqzYTy8vKmT59+2WWXMcbcbrfT6XQ6nfQZEgMcjfQPhciYHvGkSIOo978TuF54ml4+YchN03SyI38Oo0aNuu222955553t27eTs043wbSyshUUI8IThdM8YcKE+vp6rFSY1NgOE/BD+F2cuB5xrBOn01lZWUnhZq1zQRzTFyKl5OLEjOmGItO56+QDkD7BDxlo7VgslkAg4PV66UdVVZ06deo999xz6NAhhLao9Q6dZwYiQ08rc0AMEdgMNputsLBw4cKFo0ePphXGm0kJgEgQfDUcvaAgMp0J42x9PgXGKwGyoOJeiJ0Lv3jTzsBAFo6Jlrj0o6IoOhyO+fPn33777fDoNL3hSwoIBAnDlJBeAC2haVooFEKQdNasWQsWLKDOV3GLMr1nm/koKytbsGDB5MmTcfcgJNQRPANhSkgvAP0uGo2iu3t1dfUnP/nJ0tJSPkhKMCWkV6iqetVVV9XV1YHUyBhDeDDd53VRmBLSCwRBoAClIAjz5s278cYbaTg6rze6lRkTcYhGoy6Xq66u7oorrqB3MnlnMSWkF1gsFkmSkA+59NJLly5darPZEKwk8eCFJK0nmwUAQeHyyy+vr68vKCgYINUlBTAlpBdomuZ0OhHCv/XWWydOnIiCdbjFgl6ORx9O57lmA+B4OByOefPmjRkzhumdrNJ9XheFKSG9A+v+8ssvv+2222KxGJhsEA+yrEzZ6CMQFdQ0beTIkR//+McLCgpQ05vu87ooTAnpHcj7fvrTnx4+fDiYUYyLXPGyYVpZvQK3CK7dggULRo4c6XQ6M/m+fcQY4zkINpsN+eO4T2fylQwQml5kQ+WEgt6FIBqNzps3b8GCBaAJUjkU6+KBGKhJiEJCKXN6h3F5TNZ57i7rEnTWOMQdX+MYWXFXQZ83/IkLek8tTdMqKioWLlyI0TaUAFW5IS2ZsN4+kgHIBnVPwX/5jFImnG7yIIqi1WoF6RWUO2RCFEXx+/1f+MIX/H4/mHZURJVU0Ix2xjWwwhOhlaRyjW2ovoocJD6NyHtNBIGrmwdopfISyAyVfCT+QYGxWq0LFy6srKyk+l4wjtVM6mv80Q3iby5OkenWNhsEE1w1bqAHng36KqiqumzZsmnTpiGrxVcvJRU0aJfpUQHU5fHTQ+mR8bWmKBEhrjuo+wRSDnGtEwWOskVvsiSkQfkfikQi5eXld9xxB5XpanqTK0EvhTfwpxM8YbfbTZsNNk7UahJRjzpEML0BVLrPOSmgTZo3bDRNGzp06CuvvFJTUwP1gptDEz2TB9o+IRjYZbvuqbTueduPdeYIM65RQ9zruA93ewLGAiuNavRlWW5tbZ04cWJraysVGyIizDJj4ONHARnSFWR/d+VTpP10kwditlMvTa/XqyjKgw8+OHToUE0nq3bbKjwZIC6G3W632Wy0p0I/kH0F45CsFBIY2qpVfW612rnXION0DhljZHfxphcz9LmTm6HqrXXLy8s//elPo/MvPoNhzQZyjQcCAfQypnfJjutbg+fEl6flqqGFZRGJRKDiYWXNmjVrw4YNfr8fVgGv/ZO9WQhcO1P8HJ1b3NoFaOXFbW1xuoI/Puuy92kcZz5J26LAtUdBqzGLxXLq1Kna2lrqZYqeMqjuTPumbNW4GmXeUcMN4nscZYLKSx5w+dDvMKJ8Pt99993ncDjIY8ZixapNdpJL0wuhUIDe0tLywgsv7Nu3j/QD2jaj67bFYvH7/W632+/3o6kPJllDsG02Gz6DL6IjOmMMHxA4vrCgE++T6iVDUVutVqJjlZSU3HLLLX/84x9xJpRoz4Qld0FCKJSh6j0voHw1rjYtQ844SaCd2GKxKIoiiuLcuXOvvfZaj8eDy0eAi69ZT/b5qHpd7okTJ5544olVq1YFAgHsWbznwKs1jWuVgHIrNMIqLi4uKCjIy8vLz88vLi7Oy8urrq72eDxer9fpdELS8MLr9RJnORnhmVgshoyhqnefgE+yfPnyl156KRAI4D6Tb2zgTycGs9fJBUC5o4BbFMXCwsKVK1fW1dVdzEU2CqSOUHyi6Z2BsJIURTl27Njq1at/85vfBAKBHiqNeljHcY44WQeCIHg8ntLS0tLS0uLi4pKSkvz8/JqamsLCQnTTgl5yuVz5+flOp5O38cTO7VXpHcYFoOhUqZ6RiuNVrqsLPi/Lcl1d3T/+8Q94g6qqer1ezEk15D4nDLPG8AIQoWL65n3jjTdOnDgxBQoTARwYeExvBwEjSlXVgwcPrlmz5plnnmlpaYHLfrFQwcVOtasewGtMNQmHw8ePH29sbIzp4+HRNdjtdpeUlFRUVOTn55eWlg4ZMqSsrMzn8xXqKCgo8Pv9cQG0uDMhE51qtqCfKWRKkoN/Fy9e/PrrryPwAD8QBTkDur8DhikhF0BWjaqqw4YNu/nmm6urq8WUdKnR9EwZmjvSCjt8+PDatWs3bNhw7ty5Xvt59kWY+c9Q31RBb1+P9x0OhyiKkiQdPXr0+PHj1JREEASv11tcXFxWVlZaWopOKwUFBVVVVSUlJdXV1SUlJRiiQmEouNrUSA7WKY3dovAg3YG5c+deeumlJ0+epF5BmZAPMSXkAkS9Ctxms82bN+/KK69UE+p/lTA0TaNpO4qinDhxYtWqVU8//XR7ezsWqM1mCwaD3W7brDdvIe6v5JpTeIYkhC+Fhyoj8ksoFDp27NjRo0dpfIrL5SorK4trTTRixIghQ4bAVKNVjmPyc1H4XnhQm0VFRfX19atWrWK6u5KaDt89w5SQj4CnWFtbW1dXV1ZWRmZAsn8XPbMhAxhn1dzc/Nhjj23YsOH8+fMUXpMkKeFMZdxV8MSZOC8CP0ddKcLhMN5EcgZLmdovyLJ85MgRakHkcrn8fn9BQYHX662qqrrkkktGjBgxYsSI2tra4uJikau5p69QFgGk6blz565evRryCU2S9uyCKSEXgISDy+W66aabJk6ciCWSAiMYPwR7IxwOO53OUCi0Zs0ajBNBqRbIL6AYG3VKYufJaZpO+qBQGBY03w0sbrHykU/GmKZpkiSFQqFTp04JgrBt27b8/Hy/3+/xePLz86uqqiZMmHDFFVdg0ALN6KKjCYLgcDiGDx8+ceLEHTt2UIMyQy52IDAl5AKwSq644or6+vqioiKkeFPgh8D2wFaKsYBr16792c9+FgwGRX0CbTgcRn4mgdgOH6Dv6q8joMRfpqr3DUKlMWbTgWhIEX+m+99Mj1PBDozp07ThtASDwfb2dtzG3bt3NzQ0uN1un89XXV09YcKEadOmTZ48uaqqinFsgJKSkvr6+jfeeAOngczJwG/yQGBGey9A0zS3233//fd/4xvf8Hg8jMswsGRGe2kDRrl2Q0PD7bffTjl7UJiw3xMxLLGfYJ158oLejpEPdpHBQ342fR4uBJlnAtfLhz7G04cpEgA5p7iwqDdPslqtXq93+PDh11133cyZM6dNm4Ys5+bNm2+77bZAIMB3LUojBp2EiKIoyzJmouPu08iBESNGPPPMMyNHjqRN3UB2CRJhcH9pmh7vH8uy/MEHH8ycOROzcDPBwEgeeM4LBNVut8+ZM2f+/Pk1NTVPP/307373O0xFTbuEDDorS1VVl8tF89OgzfHfxYsX19TUML13v7HkK2QDieGGnZWfSXL+/Pk77rhDkiSkzIz63UwDKRPygqBVNE178cUXn3vuObRpdDgcLpdLkqS07xSDUUIYY1igSFqjDuSyyy77xCc+EdcU3Vg/hDIA0CRkYSuKEgqFHnrooSNHjjB9dEHaM2VJAr/p0GtYcS6XSxRFRM+QMUx7Qp0Nwjp1ol2J3KRzu92+ZMmS4cOHx/QJ6IYHUnBAgevJC78W4vHII49s3bqV5ywZ+NOZCfIxYHCifhO8dygQYvWnF4NOQhAyQoNq8H/sdjsUiEWf3Mn0x2agAuEtb2gPkK+i0ejGjRuffvppWZZBA0FdilG/m2mIYw1rHPBXPJdQKIToRfrO9AIGnYQgD8X0TR371rJlyyorKxHcZNwMdQN/l/jzFC9yOBw2m+1f//rX2rVrT58+DY/IbrejasLAn84WkNmJIAqMrvSeEhuEEgKmEDYq1O7NmDFj4cKFFNqifcvYKAri/WTd4fh79+5dtWrV3r17I5EIwmuhUChX6wuAiwVw6X1V7waP1H7KTzAeg05CQAFU9bFSDofjoYceysvLA1UObjrfz8Go3+UDODC0zpw587//+79btmxBxAZRLK/XCwaKUb+baSDxoLQM/YmUNvKPNN80vUibhPDTkvAO5bNcLhd6dvHFNEb9Ltm7iLTOmjXrhhtu4IscWGdi38WOczH5IY4wvqsoCjQDteFijImiGAqFXnvttQ0bNnR0dFD1n6ZpKLVNexKgK/jkKZ9eROwBr+FbY84j605dxCX4+Q/w95PGAA1qHUJRV7ovYJI6nU5FUZxOJ2jYMMoNdAkoV42I6he/+MUeii56AP9049gc9BOq3n0HKoLp1SDhcPjAgQOPP/74yZMnjbmqlIAPzrLOY31UvTMO0nwYqpgbmjDNEkIhI2Ii4H0sI5/Ph1YSNNp44MBuJ0mSJEm33377pEmTBjgDSeuuWwIMOVCb4OEIgiBJEozs1tbWJ5988s0330TsP7ugcYXZjDFZlvHgwFCWZVlRFIfDQUYUv31ko8ykTUL4fYh/B/RvURQDgYCmaR6PB7feqN+FuvD5fE6nc+nSpS6Xa4D5h7injj2VJyDBgkJNH+yrrVu3/v73v0dp0UCvJ7Xo1iQW9aZqaCsBF6LrrpGlSKenTncZXgfM8cLCwkAgIMsyKgqCwWA4HDZQhzDGsJ1/6lOfGjlyZDJq2dDLFKEYvl1VJBJBadRXvvIVyHwW5T34MAOtfuoBB66npmnwuLJO8ntA+q8E7geZrcFgEK2OI5EIaqZVvUWqIUAY0ev1LlmypKioCJRVo5xjTdPQSpQ6uCGDrmmaJElFRUWtra1f+9rXmpqacF1ZxC7ROrOAAXRUoUvwer0oI+FbnrLsNK4IaZMQnrjGW1wIjKAigtgZKIA25HeRDFmyZMmwYcMQTOS7/SUMPiss6PUSot6HDs6PLMvr168HOU+WZbTQzqLVE+d8o9iwtbUV4w2Qe0U2CTsO2Qj0FS0Lu0ml08rixQMeLehrwWAQSwe32+l0GujRappWWVn5sY99bOjQoaBFORyOgbAbtM6geTHUFwIkRVVV9+/f/5Of/ATy73a7QSg26rpSgLhYlqAPC4A8YJeBPRwXyc1qJP0JYRFgxVM/P+r5h/0VhhZuNxJn1NdQ61z+36/fhalDDfLIaZ47d+6ECRMYF2vuwW6+2MPWOvfawwm3trYiHCfLMt5ECVE0Gg0Gg1/72team5vxo6hI6e9FpQV0+XAwcP5o6yhJEkba4iFiU+Pr0eM0RtYpEJYCK4t6IlHNPmMMgXNBL3NDbJTiP12XYwJ3lvpfUTkU1uXIkSNnzZpVXFxMvTz6IoFdT4BOVdM0RHVFUYRmQNtPWZZDoZDP50P1+aOPPgp2Cd/vx9gSlCSBT+/AssKDQ4ks6Ux6mvy3cgCp0PICVwmtck3LWeeRF8bycOCRk+Gr6iMEpk2bhoJPrfO4o57Pv+ubZGQLej2qptcG4QN2u93n88GK27Zt2/r168+ePQuFhh0hu9YQX2rLdBVKEoJ4He+Mpft8DUPSJYRfQ9jLiVHCl0FrXKd+Q+4yamtxfCqKqqysnDdvXmFhocq19+y51LPn04D7xBhD62goTCwaCtCdOXPmV7/61alTp9AkmxrvdjVCMhkIP4iiqCgK0h08b4hXHdnlXPWKVJjCdAdRHkQqhff8eMZr1yP0us13BagrFosFRTl4wLwC4TVbAisVgge9p3FdBuF+0CweQRA2bty4efNmNEeD0GKDyJYyKdwc9GknahmpzbjwVBbJfB+RdHGPi4EyveiU3BLsuHyDs65fTyAqAr2BxBy47ug0U1paSh1umJ7B6O+2p+msRMYYKGQwFKEeqbWU3W7ftWvXU0891dHRgS9Cd8HQyoTyoB4Qd88h3uFwGK6Ipjdnoe0v7nV6TjoJSJGVJejc71gshlQg2RhYW+Sl8N8dyO1GBIk6Xtrt9hkzZsyYMaOr3uhvoEzTy0jI17fb7aI+3Q4EPkVRBEFobW1dt27d/v37md6jjaoL6bYkcGmpB4k0dCaZUtmS7hwIUqdDGNe/DMqEQkwU7KJvDXzp4GiwDWRZLi0t/djHPlZaWkpRYESxNH0aQb8uh34CKojkEGW9mqYh5vvaa69t3bpVkiTsuLSe8IFMaHXTdyAWj3uFu0d6mHVJleQSDPNDBI6ii3c0vRsVmIiwXFGkb7PZJEmi5q3UFyfuuwO53QjeY/k6nc7LLrtswYIFlLtgehkT/6KHS2O6b41cBwwqsrXgl6NzCuTEZrMdOXLk6aeffu+995DxpJ+g2FrCl5ZUUAghFot5PB6SBEVR3G43IuYqN82Zj+DxNyrd1xGPi21GvZ6qYRIS6zLdi3wPeBqazr+IxWLBYBC+LMC49IJRNxe/C4vZ6/UuXrwY5Ij+HoeCs8gJIozj9XrJOCQnRNM0XJTNZgsEAn/+85+3bt2KnqIDTNunErhvgiBgpA46KhC5XdXHYmncxLJ0n3JyYaQOoU2F3mH6XHA++cD08okYN6CVth+jzgfxJWToJk2aNH/+/MTsfsreCFweAx6FqHdPBL8Ldgguc8+ePRs3bgRniXG171mBGDcZh+k9WRjXaBQqRU3JtDqjkPDOa5iEiHovDyxNpMYEvdgVOxPllbC2KPohJKE9LlWcWyyWxYsXl5SU0Bi0fh1H0/ueYAfFNcJqosYouECqbm9ubt64ceNbb73l8XhkWXa5XIhMGHVpyQMeBHI72A6QQYeSVPXRasS2TiAKn3UwTEL45U6jhsjTYPosFYgQLSbWuQDawDsu6lPzxo0bd9NNN7H+x6z449DIbEGfpkneKq/9NE0Lh8M7duxoaGigvnVEDzPkupIHXAgV6oCoi4cl6NOo6VrA3gejJ90nnlwYdnm0ykmBRKNRlGhSmBx2iEWfBcyS3FNdEIRgMLh8+fLCwkKs78TED5VPdrvd7XYjnmOxWJD9pPAUed6nT59et27d0aNHifGayRxeejQExBtCoRDVCVIFGNldRLHJCsU4QBjph9BrIn5ThR10NL/j8ltvXAjLEOBQV1999c0338z0/nEJRAKwhmhxiPpYSoplkSulqmowGNyyZcvmzZshFdReiGY4ZSbiIpBwM/jCBGo+QjNDNJ1GYFpZ/Qa5tihZRuqDT7gCfPCKpMXAWJYgCJIkPfjgg6BnI8qUWCwLRF2abkP+lUWfHYX9NRKJnDt3bu3atefOncMoDKKCy7KcsWqEB4K5drsdQ2hB4OXD4gg5kBWQdfzLBGC8lcUYQ88LTdNcLheRl3gx6BrCStjosnADV5k+pkPTNEVRpkyZMn/+fP6nE4tlodYUZCpN02w2GxLncGHxMfzK008/vXPnTmLdM26/6O/vpgZ8gB7PRZZl4gqEw2FiYfG+IjMiYZUtSApzkdxZ1sXSNfyeYs/TNA2eJWaDwAa4//77/X4/uewIUybAMcGygFlFtofItY4XRbG9vb2xsXHNmjXGXl1aAKsYrzNWtlMG4/0Q8sIR3k3BNkM5R1RlYWJObW3tjTfeCPmBkGBfTMxuhoTwOR8+Z2+1WvPy8lauXHny5Mkc2Fb5SC65IjlwXYnBYB1C64+c127ZRwbebkTuNX30cCgUQhp72bJlZWVlZAwQXSqBn+CThnTm0CFQTaqq7ty5849//KNRF5VekIMxeEypHmAwL6vbN5Ma7oAFRTksxOnBwoI+QUU45Wf6azbw6yPuNX4RIbuHH34YfUczoRnzABEXWhzkEpJEK7PbDKDh0kJBFSgr5IAXL15cWlpKD3ggVnW3Qi7oAxDhimzYsOH111+HQ2/IRaUdfATFwABjNsLgWFbP7yQDRCSBJITD4aFDh86ZMwfZPVhWcBgSM6bpKvgYDmPMYrHIsmy1Ws+cObNy5UpISzb24Y1DnJ40luiQjTA+2svr6BTcWSxKGFeCILhcrtmzZ1922WXEoSI/nipIE4CgE2QYRzBBnmT9+vXvv/9+KBTCENeLQesnEjtPo9D1aQ5aGBzLSmpgt1vYbDbk45DqzsvLq6urKyoqEvT59vTJuP/2EVp36X+8GQ6HP/jgg2eeeSYYDCJbwjhJoD5dCLL5/X7U6yKiQAExML5CoVBHRweo5oLOiRYEAdxkVMBCE+KY1NSQemIYxfuKu17+ncGJ7Ghq1gOi0SgqGYLBoCiK06dPr62tTXZzZSyaSCTy1FNPffDBB/DOOzo6HA5HJBLJy8srLCwsLi4uLy8vKysrKirKy8srLS31eDxerxdCApsQle4dHR3nzp1rbm7u6Ohobm4+derU2bNn33//fUmSICfoTAWhQo0Narai0agkSbj87CLYZxGyXkIEritCYWHh7Nmzq6qqDMxzXWz7VBTlwIEDr7zySktLi6qqdru9oqJi7Nixo0ePHjJkSHV1dXl5eXl5eXFxMQY8kAaj2HTXI8disdbW1uPHj585c+bUqVMHDx48ePDgW2+9dezYMXwAkkDtIIiEG4vFjG2Pb4KQ9RIC74KI7hMmTEAToOSZ8jiyJEl/+MMf3nvvverq6vHjx1999dWXX345BCMvLw+FU/R5nv3OCwafecCLgoKCoqIipneEaWpqOnLkyIEDB1577bVt27ZhUARokRTd1vpZam+iXxCyPUAJ9wO58y9/+csPPPBAfn5+Uj1dHLyhoWHjxo01NTVTpkypqamprq72er3UAZXpvCw4uzhDeCD8cUgb8MdHdAFeB1I9zc3NbW1t+/bte/755xsaGs6fP4/aJk3TUOsH/lvyLnkwI+slBIhEIpdddtnKlSuvu+46lmTnEhLS3Nx87ty5iooKr9dL9ajdEuyp9IpxjdguFkil8BGEh+QKrLNQKHTw4MGNGzc+/vjj6CodiUQ8Hk9bW5tpZSUJuSAhaGJ9xx13fO973yspKYEXm6TfogUdiUScTifKjPjkPdXGMC5BSUYRCUa3R+ZdFH56I9lgkKi2trbDhw//13/91wsvvOB0OiVJMnVI8pD1zE1N0xwOR0lJyeTJk0tLSwW9r0KygeWLBoTwMfCvoDcEowA05AEMrrhcNUBJG5qGBc+biq4omAs58fv9kyZN+t3vfverX/2qsrKSZXBvoRxA1kuIIAiSJI0cOXLevHk8USp5P8cbSBQS0DqX3cdlFXrOA5JWoS/CWqNZ8lTWT4kUi8XicrmWLVv2zDPP3H777Wich7SppvdZTXvaMWHQvYq7LaR7U5mfyXoJUVW1tLR0ypQpxcXF1KEj89smDBBotqIoyrhx41asWPGf//mfQ4cObW9vR3UXlJXF6AmmSQW/g/BbRlpPirEckBDGWEFBwaxZsyjAmtviQYXvCGcxxgoLC7/whS9873vfu+aaa0RRRJEgyM5ZfSvitG66yDhZLyEOh+PSSy+dOnUqUTxyOzlAbezImOzo6HC5XAsXLvzJT34yefJkTMDKBHJXvxBH7SE10kNsIzXIegmxWCzXX399Xl4e68yJSvd5JRFEP8G68fl8SKtPmjTp29/+NiorYWhlUQ0tLwZoEwNSttB5WjI+kErhz5o7eDFUVVV9/OMfp97YTG+qkO7zShbgZVHjUFmWoTmRMJk6derXvva1+vr6jo4OOCrpPt9+QNNrOREMBGWTBgSk66yynnVSWVlZXl5OqWumM7VyVUjQjwKJF03TnE6npmlELrZYLFdeeeXDDz/MGHvhhRey6Cbw9hUR2KgmlL+QrmnWpCLrdcjJkyf37NmjcjMQc9vEovy9po+olmUZveVdLpfFYgmFQqNHj/7KV74yffr07HJFCMgR0cDE9LoiWS8hH3744c9//vPjx4+j/6fAdejgjS7KcxuFuCfHh/CpRXxXjzPu66yzJ6pxncS6DuigtvN8vgUGCRwPTFFDIcDYsWO/853vjB49GnPVmF5Yn8meiaAPWsILm83mdDpp8oyWpj6omXu/+ohQKPTGG288+uijgUAAiTMqhSW7Fv819v7GdKj61AcKowmd58QyTmzoNOipo/6JWCpUX4WeRmBnUU9X6En+IJo+tVnUB2IJguByuRwOxxVXXPGlL32purpakiRBz+uT6Bp1H4wCXRF/Y1V9mGgalWHWS4jL5Tp37tz69esfffRRWZYxApffjHkJMZC8RKMX4vrbEm2EfhpRBLKt6cGTS0rVUbHOoCOI+ly7GDdfm3FbAMbfQNjgnUejUZ/PV1dXd/fdd2MGELx5kGUyMJPISwJkHs1R6Tnyn0zliWW9p67pTNsnnnjC6/Xee++9NpstFosRO4scvm6LlhJGXMSM7B9axGRrkZ2Ar1APXOKG8J246PHjEtA2F/lBkLW6rg8cxO12Q5zIAIvFYn6//6677nrrrbc2bdpEDkxmxvr4u6Ryg4IFrtcMnbaWwsLgrJcQ2p5Pnz7985//3Gq1Ll68uLi4OBwOg9dEw6KY/hgM+V2KB9AmRzu6oDcvxmCdSCTS3t7+z3/+88yZM0ePHj127NiJEydOnz7d1tamKAoKPBhjTqeztLT00ksvra2traiomDJlyqWXXlpUVEQ953ljo1uqEgSS5BCrrbKycvny5YcOHTp48GBeXl4wGBQEwW63Z1pSlWRA48AYS2oxXF+Q9ex3KAekzCwWS0lJyQMPPHDHHXeA9BpnVxirQ7oqJUVRgsFgMBhsbm4+cuTIzp07d+zY8c4775w+fZpG79K0Kk1vS8lPHaCuRdFodOjQoTNnzpw/f/7kyZMrKipcLhcaPTKuZSgZeNgFup5SLBZrb29fsWLFypUrUZxIQTCjboUhiMum01WkndWf9RLCGItGo2ih4HQ60ZXnvvvuu+uuu0aMGEFjbqi3g4EbEq1OWZZbW1ubmprOnj37j3/844033ti5c2drayv2chqT2ZVSwTqTf/EOeerhcFiWZafTOXXq1FtvvXXu3Lk1NTXYEbpGtOk4FCSgo8myfPDgwYcffviVV15xu90UADDqPhgCoXNIkNchaT6xbJcQWBdYN4hsYgOur69fvnz59OnTXS4X05eOgeFOmE8tLS0nT548ePDgP//5z7/97W/79u2jSg+KsSJgRXHMuFgw4/QbEOfAwMMWBGHu3LnLly+fM2cOCLxxX8RNiOnj4+g8MS5CluU1a9b893//99mzZ4lCb8h9SBIEPRTera5L5flnvYRcDJFIZOzYsYsWLbr11ltHjhzJGKPaQ4xvZpwNxvuCApeC4H1rnhapquqHH364Z8+eHTt27NixY+/evaFQCPPNjNrzQN2l2LEsy3a7vaqq6vOf//w999yDCTiQul4NSBQ/fvjhhw899NDrr7+uaRpGTBlynjmPnJUQbL1+v3/69OmLFy+eO3ducXExMrUQD0DTtEgk4nA4yJRn+tQe2omxwuAEh8PhQ4cOvfHGG1u2bPnnP//Z2NiIrBa2eQPdSmrmgGBuOByORqNut9vr9X7+85//4he/CJcDA35Zj9YjRN1ms/3mN7/5/ve/f+rUqbSbLlmEnJUQmFWIJtXW1t5www0LFiy46qqr3G43NTKFGAj67AQawSNwheakXiRJOnTo0Kuvvrpp06a33347GAwyPdICI4omthl1CbCaNH2oAxz9WCxWU1Pz3e9+91Of+hSv9y52EN6VP378+Gc/+9mtW7cae565jZyVECx3xpjdbkdWYdKkSTfddNPNN988atSouFgtWfxMp37QC7jF77777saNGzdt2nTw4MFQKESypOmjdtCXJBwO852yBgI+mAPpRQDKZrO1tbXNmjXr8ccfHz58ON7sIYqN86R04RNPPPGtb32rpaXFVCN9RM5KCDxUeK7kbNjt9rFjx95555033XQTMYKZ7pDA1he58WvoqLtmzZo//vGPR44cCQQCNLwzLtMHc8jpdMqybMj5UyQHphTjqCsOh8PpdN5///3f+ta3ME61By4zf4Gaph09evT222/fs2ePISc5GJCz7hrWOoKtgs6DisVie/bs+epXv7ps2bJnn322o6MDOTs0FkF3H6bHqcLh8N/+9rdbbrnlZz/72a5du9rb2ykxT9ULcGMgHqqqBgIBo86fz9DzreicTqcgCIFA4JVXXjly5AjJZ69Hw4vKysp58+aZbnrfkbN3ClY7XtC6lyQpEomEQqHt27cvW7ZswYIFzz//PD6PeBEyKrFYrKOj49vf/vadd975t7/9rb29HRuwqk9cgOqAFed0Oqk1KB8DGDggJLgQhAHQzSQUComi2NLSsnXrVlxjDw2QwuEwPBnE5axWa319PUoyTfQFOSshcBU0TXM4HKg3Yow5HA5N07DOIpHIrl27Fi9ePGPGjPXr14PyiLjWli1bbr755hUrVpw/fx7WFyw08ptp/jWcabKCDKzpQ0AWI7V4wpKqql6vVxCEEydO/PWvf8Uv9hDIwvRThKFhIo4bN662ttao88x55KyEkOdNVEKmh3R45pLNZtuzZ8/dd989YcKE//mf/3nnnXd+/vOf33vvvdu2bSOOMIWSKOVHHkgcF8tA6wVSTVUi5PCAFQ/5aWpqamxsZL0FpmhTAMNAEIRbb70VQk60+Yvl5kxkPXOxv6BsIGVtsUSOHTv2H//xHxaLBYxrj8eT7jPtHpi5A5bX+fPnP/zww5qamp6nYKv6kEeInM1mmzt3LugncRz71F1G9mDQ3RShM2UdQDbD6XQSzRFbbAYOtuXj1IFA4OTJk73mKInphEiDqqqjRo26/PLLWeea/synoqQFg05CCHFMEzKiYJMgUkydczMHCJoR0R19FnuIZRGXkQxCuC719fWRSIR0C9HpU3Yh2YJBJyFxGWgqRYgjpTPGRFE0NjZlCIgeLwhCOBxubW1lPRpIpCIodAE9OX/+fHhoEDne8jTBY9BJyMWAxlOwOqhtSgZOf+abR2E6dq+fZ3qIgqIUmqaNGjWqpKREURQysVhm9MnNNAw6CeG1BA9ErrDFUoGRURQSA0FF7Uyv52Y9rmwYY2RiUSLS6XROnjwZ3GGxu8FAJoDBKCF4wYdQGdd9JxqNEpfJKAqJgaByYp5Y1cPipmwjTY2jBOL48eOphDhje6CkHYNOQgSuuK9bfSJwPakSoPfxvTl6XnAX02Y9g8whjMlGVLrnHxI6jzoR9Enz48ePp1gWdTo1EYdBJyHJBu8n9NzuKbE9GwUhWPFWq9Xv9ycmaaIo1tbWgoeCABcUS3+Pk/MYdBnDZKNbl9dA60XketqShCTQwwWdIpAeZZ0b5ppg3BM074jB4Hf0OFfHEKDeECFat9tdUlKS2HHAWCsvL0cfOvQHMotGCB9lk9N9JrmGOPGIe1PjkPBPoPTFarX6fD50P0nAOgIncujQoZQn1XTysglmSkjy0DUSQP4xM8Lcov1eFMWCgoKKioqBnGpJSQkYN5FIpOfc/GDDR11t030muYY4vYH1hw2bN7oSFhVNp9/b7fYxY8Yg659YzE0QhPz8fL75ohntJcArs1gspoQkBaQ3IB6olaX1N5CFqOpzAnw+36RJkxI2jZA9zMvLgx+CnnemH0IAgdpms5kSkiCEzh2X6TX1VUDOESFUlOm63W702kLtR2JyQu0jCgoKrrzySr6JUX8hiqLdbke0l5oPJXCcrMDF8mBIBBEtjSoF0E1clmVTQhIE72rHud0Iv+K+Y+3yDPMBWjL4La/XO3LkyLKyMggb32Sx78fh04gstQ3VU4+LBRipZw1tE9T+xtQhAwLWk9h5fI+md5sGucvhcPD0EGJ2aFyv+MR+WtO0+fPngzZGbRcTOAiVXvHhhJzExeKHpOdRUwDN73Q6oe01TTMzhomDX+6Axk2EstlsuPsQDCqpZQPbrfGj+fn5N9xwAx0n4QPyKcLc1iEXA3E3Uf5AndCIIWpKyIAQpw0oMw1hwFRBVGXwfC1SNYmpkXA4XF9fX1VVRUTdnqtwuwXSIJk5bScZiLtMul2o4GfcSCNIiyRJ+JgpIYkjrqU0aQ8aOAgnBP/24Lf090ctFss999zD9Ia8CTghhFAoRK8TltjsAr+dMb31K9F2sGVATmB3mX5IghC4RicUtqKaRCRAUOYu6PxZXnUkvBw1TfvEJz4xceJEkkCW6BgaTdPQfZh1ZzHmGHgd8lG+XBQhDA6Hw+v1olcBYwyNZ5mpQwYCqjqiTthWq9Vut0uShCgqpfboMTAjXGGLxfLVr36V8llMH/bQ38UNzxW2BJDb5lZXexh2JvqJqaqKgk2PxwNGDzVxNiUkQVBsRJZlj8fj8XiCwWBLSwuSHoFAgLfB4npS9WW3hgMTDofdbjcEDPbAnXfeOWbMGKYXD4IDn8DeD1vi1KlTlB8AAT5X1QhljRC5wvh5CANGSULnh0IhpJjoSZlWVoKAA4BOjaIotrW1WSwWzLuKI5gkBngIXq8XwRaEwoYMGfLggw+CRoUf6nZ2YV+gaZrNZnv33XcRbYPey2HmIs1DhnVK0oLpebRnocsz3+PGlJB+Azsu7qnP5wOjBG1/WRdHUEiUheV2u6H6kV3BYT/3uc+NGjWKnh8UC0vID8E6aGxspLbZF8sY5AzoKWA7cDgcNpsN4V3MJ0NcKy4Da0pI4sCNDofD0CRYc+CY8KstMU2C6DAemCzLFotlzpw5ixYtYozZ7XYaisK4jlj9Pf6HH36o6sPmGWMGjpjLQNCoPQQD4X5gAJOgd6wFRY0xxkuI6Yf0G4I+kMDpdGKiCO6+z+cLhULIflCKOuFdGQYPlL4sy1VVVf/+7/9eUlJCo25p6kNiAV9VVd9++210dSFJy+FwFrlbTGchKIoCEwsqWpIk3EkMH6dcqikhfYLG9fkl5xuNsekDmJDIm7ADzJ1D6Uej0YKCgsWLF0+bNg1zTuBrwm2AoQUnu1/Ht1qte/bswbweTR+xkMMJRHjnMImJMUTmK5/FivuiaWX1gjh3gsKsGFSLVr/oYhrXOmiAnno4HMaStVgss2fPvuOOO9DWxOFw4EkzxkgaE7COYrHYjh07KOjJB3ByEthK4GzQmCSn04lABTY7bDpxOtmUkN4Rl2zCvcbwN4zjQUzJ5XLBih2gbAAul0uSJE3Txo0b99nPfnbo0KH8bF68QHqLNwn6jkAg8Oabb9KMeSIyDvC0MxagyWl6A/xYLAavg/S8oiio3KR+goApIb0AUQ4EB2OxGAIgsixHIhH8CRYt0gvBYLC/soGDkHYinrymaZFIpKamZtmyZZMnT0ZTkgtsU6tV44DmQBc7PpGv4kaRbNu2jToARaNRuP4DvFeZAP5WCHrrM0Q1yN+AbGAmPdOnlBHvIe5mmhLSC6i3CPKv4XAYFDesYNxZeAvYgfp7fBCtMXhNlmWr1RoOh5HPqqysXLBgwaJFi9xuN3b6xFQTxIA43nizoaGBhodABxqi+tIOPhNFJpPX62V68AMyEw6HQ6EQptRDYKh4k3W2GnJWqxoFTe/d5nK5sOnCI2eM0ZQC7FIs0SE1kiT5/X5K2+GZ2Wy2mTNnfv3rX3e73ci3UC+5fh1c5WZJkzUViURefPFF/n2EenPAD+HDcRAVmvZK9LloNIrnFddpstsNwpSQXgD7yu/3Nzc3Q4fgXyKSxHkp/V3BiqLQOCibzSZJEnIsc+fO/f73v+/z+ZD3RRAmsUug0jlYcdFodM+ePceOHUMUC4DzSrmRbAexSHDh8Ojo0ZC6iNMY9AH+IZoS0gswvJwxZrfbOzo68vLyoLjjOH8Jm0AUQXI4HOBfybI8bdq0b3/728OGDYN7AwM64eNjmySv1Gq1PvPMM9QmCx+gYajZDlWfMsn0ThoYCM70En+YXvThuAbhfGoIb+bChpFUxGKxYDCI6IfH48FuBM9P0Ktw6YYmsMigH/hOiqNHj/7Wt7515ZVXglGHR4i8ZGIdGwAcRxTF9vb2TZs2UXcs/ChpkoSPnyGgRt1QidCKDocDIRYIj6gDYW4+7IGDmH5IP4A1GgqF8vPzI5EIJkozfY4H605H9wsOh0OWZVVVXS5XOBweO3bsj3/849mzZyO+xDqXSSWgRihTLujFj6+++iqmH5Jgi/1v+5uxELjJjKqqIsEK/w0WJj7GV+wQAYKOwMy+vX0HhT4QJQRPARPWsUXhY5peK9Lf48diMZfLhWT5lVde+aMf/ejaa6+FQ8kYQxyZOEUJHJ8MbiyOQCDwf//3f4I+eBrrRtSHX+eAoYV4AyWmEMvGnxAC0bjifl6ZXOyApoT0DqgRxHmZzhtn3Y1E7GGF8XXhYP7gCQmCgOzKNddc8/3vf3/OnDl0ND71wRLd6WndY+kcOHBg9+7dcT2KWA71OqF1z/SLisVikiThYrHv4DP0+bi7GveOaWX1Aj6+Qao5geMg4u5yuQKBgM1mc7lc8MLBd5g/f/4DDzwwffp0yI+BNg/EGBunoijPPvtsU1NTDuiK/iKOcN13mBLSJ5BeJvR3u4WfHYlEvF6vJEnw9RGqv+222+69996rr76a6QN0DBxUQONLLRbLu+++u3nzZmoxaMjxswV8r5l+wZSQXsALQ7exjj4iEonAFw+FQqBYB4NBn8+3dOnSJUuWjB07lmwhlhAT8WIgtnw0Gv3zn/984sQJQW9TZNRPZAUS3hEG121KAHzAaiD7LvKM6IECrmFFRcVnPvOZpUuXVlZWMj15T66OgS4BXPx9+/Zt2rQpGAwivGPUwbMLCTzHQXqn+gVDFiux4iRJstls5eXl3/nOd2666SaPxwPHA8GxrhmrAQL5llAo9Nxzzx06dAg+OlqnGXL8LEKCrDbDzyP3wG85CVvwoVAIbXy9Xu+wYcNWrlw5ZcoUl8tFDf+ou4+qtx835OQRdtu9e/dLL70UCASwSiKRSA6ErfoLrUsRZV+ephnt7RMulnDtO6i67brrrtu4ceM111wDWhSRPmB9GV7JJAhCU1PTyy+/fOjQIQTKqHXDoAIpZ8aFtvvyKAfdnUoMdDdJVARu1gRCT7SyoRAu9LTUZ4kwxgoKCr70pS89/vjjw4cP5+tAKNEBLyUxEyuuvIGyhJFI5O23337xxRclSRIGQS3hxRBHMGW95a8IppU1IIA0jvgseIeI6sI5JmPJarVOnDjxy1/+cn19PdObKBvrjhPtCvFixlgwGPR4PEePHv3tb397+PBhanIjyzINiTbRK0wJSRDRaNThcFDlDVorgLjucDgwfUIUxXA4XFNTU1dX99nPframpobpTUSZ3pPOKH8DKx61KwiIud3utra2l19++ZVXXsEgT+grXt2Z6BWmhCQI+A/QITDrVVUNBAJ4jb3c6XReffXVixcvrqurKy0txRdBwULpgoH1GDgOehFQLdT+/ft/+9vftre3gwSJgmEUnAxCVyQxmBKSIMDUEkURJhZsGDJyFEWpqqq65ZZbFi9ePG7cOKpJhERhHWudh6QNHNBaqCdRFKW9vf3JJ5986623QANDQ5ZwOGzUzw0SmBKSIFS92TsKdIhfjajUrFmzli5dOmPGjJKSEhTWojcKNA9551i4hpwPDguWFyiPGzZs2LhxI9M5vOBl4edypl4qBTAlJEFgrUMtYGphIBDweDwVFRV33XVXfX39JZdc4vF44ByL+rA8cuUReKWOZoYAv4UU4c6dO1esWCHLMgjFUHThcBg+eh8DnSYYY4Lb7U73OWQl4IU7HA7YNpIk+Xy+urq6++6774orrigoKCDnhGKL/LokIp1R/oDAdSg9e/bsJz7xibfeegsj0qlQEZ8xkBY5GHBRHcLT9T6qt8qhYrSuwB7PL1kq7kNdIcJECFuh4SLTyw+mTJny8MMPT5o0qby8nCec0x2LYwQlvIvzFVFUXMUz8zs6Or75zW/+61//ovISOgf8a4pHv3BBQroyurom53ObMi0IAgI+yGbAHMJChDvOuBpoSA6qoMrKyh544IG7777b7/dTpJVg+B2jrnMQXVh68D1wVhs2bFi3bp0gCPDLTXkYIASU8sQljC/8rcsmZ2ySK6NALQkZ16sPnjdNsUGQFK2rIpFIfn7+0qVLH3rooUsuuaTXW2cUKJjLKwdRnyKyffv2T37yk21tbWgMaVQYYDDjIyuLCoNolfDVQrmtQJge8NH0zlGUF0dIF5oE0iKKYkFBwdy5cz/zmc+MHz/e6/ViDIXdbpdlGYooeRC5eYhxW9s777zz3e9+NxAIIFSFpH5iQ0BNEKy0+jVubiX9GUXxvCWdq4Bs4HoFvZEU+oSDPR6NRj0ej9/vnzFjxp133jlr1iyfz4cvgpWIVrDJjqKCW0UUErKjTp48+YMf/GDv3r1kVuFjST2ZwQArXyFExjcJDON6b6b5TJMMKAdyxJHogKHS3Nycl5dXVVU1evToRYsWzZ8/3+v10g2h5gzQOcm+UbyhizAuY+zUqVO//OUvd+zY0d7ejiJ4xHZZru9rKYCVd8ERyaFSHiSJ+UhIDvsh1G4MLBJYWdinx44dO2nSpBtuuGHOnDnl5eXoKEOsKmrbY7fbU9DVU9Ab+VCf5mPHjj333HPr169va2vLy8uLRCKyLEMBivoAWBMJ46NmM3yoHpFETW9Xk6tSwYP6oiO1J8uy3+8fNmzYNddcc/3118+cObOoqIjuDH9bMN5ANGhceq9Q9fmGiF81Nzdv3br1F7/4Bbzzjo4O6rXl9XrPnz9vOusDRHwnP+quRbN5UhOiMRzkdvNED9a5Fzp2AbxDfSwVRfH5fFdeeeX1118/bdq0GTNmgNGEz5MVSooX3CpqdG3U+ZOOIltX6Nw6UVGUWCz2/PPPr1y58sSJE9BgKGPEJwOBgBnqHTg6eeowHuiR0JvpPslEAEcCLfcErm0h9RojrqGgjyBijBUXF0+dOvWGG26YOnXqsGHDCgoKQIbll35qbgh2KI1jN1LYCp5SR0fHyy+/vGbNmn379pGi4BW+oLcVNjEQdHr2lBPAAqJ/03h+CYO661LxNzVyjsshwFIfOXLkrFmz5s2bN27cuNLSUkwTJleYpdwNIx3IuN6BTB95IUnSjh07HnnkkX379uFacBWk2bS+FdCZ6BUCBrgwbkJPHEkhSx10bLSMMWS+yVWAqMBYCgaDNptt9uzZCxYsmD59enV1dWFhITYFCAZZUxrHFknN+ZNZSDoQ1iCKGffv33///fe///77KGzk01a8RZDKE85VWOk+8kqc/0SW6hBQp2DNY4gEqObIJ0Sj0Zqamo9//OMLFy4cM2YMRtpS7I4xpmkaLc3Uiwfr3HMA4oE+V4IgvPvuu3fcccfJkydxhnGzqdJytjmMeNYJ/Zvt9xfMQk3TaNY4OonYbLa6urpPfepTU6dOLSoqgitPHi1sFfovf1viiDnJvj809Yb3JVRV/cc//gFeCWTG5XKBIUaf4dkPOc+ESAG6Z79no1nVFeTpIlkxbdq0urq6RYsWFRYWulwu+hjUhabPSuWHGMEe40UCtmgKbg6Fkom+3tHRsX379nvuuScYDIbDYZwtbwOb2iMZsIr6CCLWZchIV2SR5AiC4Ha7HQ5HbW3tzTffPH/+/EsuuYTKOUhbIjhBXgc5x5Qz5Z0Q3txPwd6s6uP2VFUNBoMNDQ0PPvjg+fPnnU4nzUGni6UzjMtfmTpkgEh6BRVK6rBDgwXIuLKhuOcn6MMm+XATucu8G8q/4P9qtVrz8vIKCgpGjRo1e/bsefPmXXLJJXTYDKxvoZOHdiLCFdMViKIobW1tTz/99COPPHLu3Lm0nuxgRNIlhBQUzBXsynAxL5xBlw2PD3ESK4wa2PBig/lpfr8/Pz/f7/eXl5ePGTPm2muvnThxYnV1NZ9r442WpF5vf6HqU+AwNB2nRy1UotHoyZMnf/e7361evfrMmTNq58mUJlKApEuIplNXaHBWnIlCy5c39vhRAUwvCuejz3a7vbi4uKSk5JJLLqmurh4zZsz48eNHjBjh9/vJdlK5oY905EzTIUzfIxCSQpU5RCUUCn3wwQe//vWvN2zY0NbWRpMNTaQSSe/kwKsIfqUS1TzO90XgUuNSlpANl8vl9/vLysrKy8vLy8uHDh1aW1sLvq3P56Olg2AU9U9g3cWjMg2UgYGOhagEAoHdu3f/8pe/3Lp1a1tbmyAIeXl5HR0dJs8qxUhFJwc+5IK1SwMXKWpEIgEDw2KxuFyukpKSysrKIUOGFBcXl5eXl5SU1NTUVFdXl5SU+Hw+6psGy41Y6PhRXvD4QG2mCQnvcaFfaCwWC4VCzz///JNPPvmvf/1LkiTEoyVJQvw63ac8uJB0HUKxIJvNhsHkjFusoig6nU6fz1dcXFxcXOzz+SorK4uKikpLS4uKigoKCvLz8wsLCwsKCvLy8ohcKHAjG0kGqDaD2BbEK6EuuhloZfGRBhRgdXR0rFy58k9/+tP+/fsxxg0pHdPESgtS1A1o2LBhs2bN8ng8Ho/HZrPhhdPp9Hq9Ho/H5XI5nU6n02mz2bxeL94kbUOJbRIARGx5l5134ikNEncOmqbByk/B9fYd0WiUGlHb7fbGxsZvfvOb27Zta2pqoqCW0LmmzUQqkQo/JBwOl5WV3XbbbeB3hEIhj8eDLAQWAQX+4ZHzNHUqFYIYwO/nv8WnnElfkQHGuOUliiJGdiT7kvsFqAjGmMvleumll374wx++88476HOF7qaoP8GHM1AH5jySLiEoWti3b197e3teXh5qROPIkTzthc+CxQWg4tgx/H/jYsdx223cF5MNCqPx4WZKRxJFl+lRXUEQAoHAY489tmrVqvPnzws6ax2Sk+HiAbsX1wWRJjJ1bmi8pNcP4K6dO3du//79gUAAPnoGPmmjQJ43ggcUpIa3TR6RJEmIX4miuH///qVLl/7oRz9qaWlBe9/sGjJIFZdxQfw0npKBSLqEUH+nV155BRtkbue84oQ/jhYJMxKMQ0VRTp8+vXr16ttuu+0vf/kL5kXZ7fb29naeNpbh4JNUxHXIpRZESbeyICEej2fHjh3vvvsumq8l+0fTCOqJyBczIpdPuQ5FUQKBwNGjRx977LE//OEP0DOCIMBNQqeSdF9HX0FPk1g/vKik99wMQdIlBLsmWqNv2rRp5syZTqczrq41l0CBNUFvS4cVoygK4niKorS2tr7wwgu/+c1vdu7ciZIVIsUgPoFW7em+lD6BXEpsAVTpRWF91oVYmcazTQCpYJ1QvL+4uPj5558fN25cbuwu3YI8V8aYLMs057ajo6OgoKC1tXXv3r1PPfXUs88+GwwG8WFNL2lkulxl3TLSNA11yxSKUBRF0yuByUvJRglJUSwLd+r48eMbN26sra3N4dwwRZmRt4GoSJLk9/v37Nnzl7/85ZlnnnnzzTdtNpvD4ZAkyev1BgIBSvIYPgE02aAwPZG4UaaWM1ZWijKGoijKsux2u4uKil5++eXa2trcuH1dQaFeFJRjQtrZs2dfffXV5557bvv27ch1UMwX6Q7K7UClgLyY7kvpKxCwdrlcsizjQuh1DuiQ1E3YoeTA8uXLV6xYwedDiNmegbePd7tZZ8eUz2xQAoRqx5Esb29v37x584svvvjyyy+Hw2F0j6fG8iwjL7lbCHoHHPI04FPBHBD0bvlUxixJUrpP2Rikwg8BqRu9DME+evnll6dMmYLgpspNaWKZt2J41iPjTpK46JIkYUob4lTRaDQYDEIb7N69e8OGDZs3bz5x4gTUBZX4Zt2GSv4VThu6zu/3S5IEB50icojd5YyNkIoaw3A4TLPuCwoK2tvbr7vuuvXr1xcWFmLQGW1OLPOqRgWuG1BcFp/ngyBsZbPZ0NF03759f/rTnzZt2tTY2AjBIJEgTg3rzI7JcBBFH/sayETl5eXnz59HKIKvGUbmJ92nbAxSUWNI1EMaWywIwne+850HH3wQEzmIqEtRoMwB39iBAHOCdCNWv9VqlSTpgw8+wBDaxsZGFLdQq1+mp5/JxMrAquCLgcQ7Eok4nU6HwwGuvqb3wYBsIIRlMXQKdnqRCiuLZx+CiAFa+2OPPTZ79mwaT5OZTB6iivFkGU0fNoI/tba25ufnNzU1rVix4k9/+tO5c+eoZy50I5p38ZaV1plylvmgcjTqkK9pWjgcRrd52M+gC2jdEauzF6mwsoibpKoqouaapnm93hEjRqxbt66yspKP7WTaitG4ltiM60FBqUCr1drY2PirX/1q9erVra2tcMTJYqSVRK2GBB10/DRdWb8BKwspf5SsoESUDFFy1eLafGU1ki4hZJ2Dzt3e3o7UMmPMarVef/31q1atcrvdSDlhJSX1fPoLftcnUVEUxeFwtLS0HD9+fO3atU8++WRra6vH48FyIcMMC4gfWoRjpphrbAhwUQ6HAzKPS7Pb7YFAAB/gJT+LrqtXJF1CRH0IICKAHo8HrnkgEHC5XG63e9GiRV/5ylfKyspoHkBSzycBCFyFiaqqoVAoFArt2rVrw4YNL730UltbGyU0hM7ce03vYoE7kI16gwdGc6HZMWaVoJCBqAOMMUVRBEHAnpju8zUGgsPhQL9aOJTRaNTlclFjq34frnN3U37ftVgsGEBOYStZljVNKyoqWrZs2X333VdYWEjBdWrbIwgCnPv+ngn/07wvwfT0i9alFoVSH3TmFNmEHdjc3HzmzJm///3vL7zwwpYtW+BT4SuU4shAV6pfoKdDmhDmJZ4dOqCKoki9XjELLochzJo1a/v27YgvITjDBpyUoK9TlhD/er3eSCSC6CdmwUAsfT7fJz/5yS9+8YtlZWVYkQ6HA0dAbDGBTbfbKC2ch7i2vNReEW8iOAOlh0Uvy3JjY+Phw4d379790ksv7d69W1VVl8tFOWPSDzkgIfyFUFbUZrOhOJQf8kieWLpPObmwzp49e+/evaFQSNCHfcb1Eu8j+LBM1xcU7SULhHigsiwHAoH169crinL33XePHz+eVBCyclSI16/zod2dP5O4uC3saVEfkU6BGlx+MBhsbW09cODA+++/v3Xr1tdffx214/CUeD4FHS3bxYMHv7nwjYzxDnKjGdihz3BYhw4dOn78+B07dqiqCspQYvZVDxIFYYAdghdQC7Iso5DIYrG0tbU99dRTZ8+evffee2fNmsUfk5rq9ut8yFRgnKFFta9QGrxzSYZcLBY7e/bswYMHd+7cuX///jfffPPQoUOyLHu9XqfTicURCoUgtEAubaV8aIHmEwn6LGy8g+iLZXAMa7eKojht2rRdu3Yhkp1wuod20LhtFe0asEPDeMVQGGw/MGqxgkOh0Isvvnj06NFly5YtWbIEuzVC7Ha7vb9yq3LdUOMGDPBGEVYAEn8ffvjh/v379+3bt3///kOHDjU2NjY3N8P6whwiCk8RszCXlAZAj4O0Ja4UvjiEB7ZxDpiUfYFVVdVhw4YVFhaePn1aHMC4Sv5bxKSAvAmCQMQTBNEhOYIgBAIB9C6BqDDGdu/effr06Z07d957771XXXWVpmkoSU1AaCkpwa9miiXgJEOh0Pvvv79v374dO3YcO3bsyJEjp0+f7ujoQKbf4XBgZdCwHvKd6AJzbJWIogjnGxpDlmVESvCMSPdSljDd55t0WBljNptt1KhRZ8+e5UM6/T0Q+SF8UkzgCu6IE453otGoLMsOhyMSiYRCITi+0WjU7XYfP358/fr1Bw8erK+vv/vuu0tKShLIk/ASRV44RKWtre3kyZPvvPPOrl273nvvvRMnTjQ1NbW2toKwDfuBZkYjHS7orXXhp0qSRPZ3zthXAG1evGNJFfZM788ySMSDwcoKh8MjRozYvn07zXNJgC/E96fCCoNSlmUZLUZh/YfDYYgKbjTlocBfwuJDIGvHjh2HDh1qaGi48847/+3f/q2/EsIHrNAzYe/eve++++6ePXsOHz7c1NQUiUSCwSBI2mSPwUenNnaUCMflIJfMz9Tk3dncEBVN0zweDwI2SOOCi4UEgNVqxQOFMsklhuLFIKxZs4Yx1tTU9MMf/vDCWwk9bEqoCYIAtwGLCd4t09mvrLdNl09TgPnn9/srKipuv/32+vr6yy+/HDFWXi3w8ftYLNbS0nLu3LkDBw40NTUdPnz44MGD77//fnNzs6IoSIf399JyGPyzgJw7nU7cKIrOk85P32mmE8Lq1atFUezo6PjGN77Bpwv6KyQQD/i+SLVKkgRyO592YL1JIFl6CD2peotRPKoJEybMnDmzpKRE07RIJNLe3q6qqiRJ586da2xsPHnyZEtLC1K8VM4qcGMSWC761oaArGKUB+Ju+3w+7GvZQtFPBqxYkcQ9IUc2gWPx/qumtw+lvBufJOnBwSWDR+MG8SAuLMvy3r179+/fHw6HIQN87xkSUZvN5na7iZIt6H0k+Mo+EzzingUenNYZg3ZnuUCwE7iaUnKv+wWenBsOh2G2er1enu4B9Jw9IAmBWw971+l0QkiQYfT5fHl5eZrOeoIxJgiCw+GgGeo4Gh+5ghfR3+vKVcTFHjV9VIssy7C1XC4XNqlcIuomACtjTBAE3Bfe9ezvgWiboRIzAGqa4q1UQnSx4+AreEHjz5FIQdjRbrcj7AiHHpoEzxiCQb/LOOOB8vQJ3aUcBK/S+f8ibIgkEsIqg1mBMEiIxWJpaWnBMoJhQzVPfQcR/pheRIF4Lv5KuYhe16jAsRvIcMIpQQAgMHa73Wq1BoNBZHl5dglEFPRS4g7Bq8nA+pN0ge4DrX56oaoq8lc0dXUwC8kFtvmJEycoyDsQJ4R3CYgRKHD8KD4o3O1xEKeitAwOiLYa+C+iwwiUeTweWGI8C0vrPFGET9RkYJVvetH1KVDLEtxDBDwGs/N2YYpNU1OToijgVsAu6u+e0dXT0HQeu9pl0EcPBycJYZy/Tg4JTCkYYIhioXyXvqtx3RIoCINfH8zGdFfEPQJ+ZyS7i8jLg1qHIAy6d+9em80WDoedTmc4HE54nCSvSfiEeldVfjGIXO8seC/UA0HVpxYyXRfBGuSPSb4Q62I/DOaNsFd0vYd8QdugFQ/GmBiLxY4fP97Y2AhjBkyQwXxHTJjgIVosli1btsAOAfs9sWivCRM5CfHo0aO7d+/2eDwwaYipnu4TM2EiIyA2NDQgTwReLXUES/eJmTCRERBA5JQkKa7w2swbmDDB4KmjzyQx1dGDOd0nZsJERkBEQlpV1VAoBOaz2KVNrQkTgxapmx9iwkQ2wkwzmzDRE0wJMWGiJ5gSYsJETzAlxISJnmBKiAkTPcGUEBMmeoIpISZM9ARruk/ASFB1CsqtUI1IfR4URQF5Od2nmRR0rarNRqDaBzNt8A54tJIkoWaOHm7K6Oc5JSE8cItRn4i6Rer9biIDQXWgRPJAiSgYHnHFcKkkDeaslUXdJPgyYLMQN8NBwoB2HNT1hm8o0Zd+IAYiZ1cMbqiqD17DnR0M8y6yFNSMCgRzvmkOiU1aJOT/A9x0w3rsR3WNAAAAAElFTkSuQmCC\" class=\"ndarray_image_preview\" /><pre class=\"ndarray_raw_data\">array([[[10, 10, 10],\n",
       "        [10, 10, 10],\n",
       "        [10, 10, 10],\n",
       "        ...,\n",
       "        [10, 10, 10],\n",
       "        [10, 10, 10],\n",
       "        [10, 10, 10]],\n",
       "\n",
       "       [[10, 10, 10],\n",
       "        [10, 10, 10],\n",
       "        [10, 10, 10],\n",
       "        ...,\n",
       "        [10, 10, 10],\n",
       "        [10, 10, 10],\n",
       "        [10, 10, 10]],\n",
       "\n",
       "       [[10, 10, 10],\n",
       "        [10, 10, 10],\n",
       "        [10, 10, 10],\n",
       "        ...,\n",
       "        [10, 10, 10],\n",
       "        [10, 10, 10],\n",
       "        [10, 10, 10]],\n",
       "\n",
       "       ...,\n",
       "\n",
       "       [[10, 10, 10],\n",
       "        [10, 10, 10],\n",
       "        [10, 10, 10],\n",
       "        ...,\n",
       "        [10, 10, 10],\n",
       "        [10, 10, 10],\n",
       "        [10, 10, 10]],\n",
       "\n",
       "       [[10, 10, 10],\n",
       "        [10, 10, 10],\n",
       "        [10, 10, 10],\n",
       "        ...,\n",
       "        [10, 10, 10],\n",
       "        [10, 10, 10],\n",
       "        [10, 10, 10]],\n",
       "\n",
       "       [[10, 10, 10],\n",
       "        [10, 10, 10],\n",
       "        [10, 10, 10],\n",
       "        ...,\n",
       "        [10, 10, 10],\n",
       "        [10, 10, 10],\n",
       "        [10, 10, 10]]], dtype=uint8)</pre></div><script>\n",
       "      (() => {\n",
       "      const titles = ['show data', 'hide data'];\n",
       "      let index = 0\n",
       "      document.querySelector('#id-1e1be479-128c-4d47-bc1e-52a82126ce88 button').onclick = (e) => {\n",
       "        document.querySelector('#id-1e1be479-128c-4d47-bc1e-52a82126ce88').classList.toggle('show_array');\n",
       "        index = (++index) % 2;\n",
       "        document.querySelector('#id-1e1be479-128c-4d47-bc1e-52a82126ce88 button').textContent = titles[index];\n",
       "        e.preventDefault();\n",
       "        e.stopPropagation();\n",
       "      }\n",
       "      })();\n",
       "    </script>"
      ],
      "text/plain": [
       "array([[[10, 10, 10],\n",
       "        [10, 10, 10],\n",
       "        [10, 10, 10],\n",
       "        ...,\n",
       "        [10, 10, 10],\n",
       "        [10, 10, 10],\n",
       "        [10, 10, 10]],\n",
       "\n",
       "       [[10, 10, 10],\n",
       "        [10, 10, 10],\n",
       "        [10, 10, 10],\n",
       "        ...,\n",
       "        [10, 10, 10],\n",
       "        [10, 10, 10],\n",
       "        [10, 10, 10]],\n",
       "\n",
       "       [[10, 10, 10],\n",
       "        [10, 10, 10],\n",
       "        [10, 10, 10],\n",
       "        ...,\n",
       "        [10, 10, 10],\n",
       "        [10, 10, 10],\n",
       "        [10, 10, 10]],\n",
       "\n",
       "       ...,\n",
       "\n",
       "       [[10, 10, 10],\n",
       "        [10, 10, 10],\n",
       "        [10, 10, 10],\n",
       "        ...,\n",
       "        [10, 10, 10],\n",
       "        [10, 10, 10],\n",
       "        [10, 10, 10]],\n",
       "\n",
       "       [[10, 10, 10],\n",
       "        [10, 10, 10],\n",
       "        [10, 10, 10],\n",
       "        ...,\n",
       "        [10, 10, 10],\n",
       "        [10, 10, 10],\n",
       "        [10, 10, 10]],\n",
       "\n",
       "       [[10, 10, 10],\n",
       "        [10, 10, 10],\n",
       "        [10, 10, 10],\n",
       "        ...,\n",
       "        [10, 10, 10],\n",
       "        [10, 10, 10],\n",
       "        [10, 10, 10]]], dtype=uint8)"
      ]
     },
     "execution_count": 56,
     "metadata": {},
     "output_type": "execute_result"
    }
   ],
   "source": [
    "input_image"
   ]
  },
  {
   "cell_type": "code",
   "execution_count": 60,
   "metadata": {
    "colab": {
     "base_uri": "https://localhost:8080/",
     "height": 324
    },
    "id": "0_5Q6TIc1ND_",
    "outputId": "c3d0454b-72d0-4678-bed0-9769730d2a0f"
   },
   "outputs": [
    {
     "data": {
      "text/html": [
       "<style>\n",
       "      .ndarray_repr .ndarray_raw_data {\n",
       "        display: none;\n",
       "      }\n",
       "      .ndarray_repr.show_array .ndarray_raw_data {\n",
       "        display: block;\n",
       "      }\n",
       "      .ndarray_repr.show_array .ndarray_image_preview {\n",
       "        display: none;\n",
       "      }\n",
       "      </style>\n",
       "      <div id=\"id-1bd1c05d-00e8-4206-b6c9-d88e2928520e\" class=\"ndarray_repr\"><pre>ndarray (284, 267) <button style=\"padding: 0 2px;\">show data</button></pre><img src=\"data:image/png;base64,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\" class=\"ndarray_image_preview\" /><pre class=\"ndarray_raw_data\">array([[10, 10, 10, ..., 10, 10, 10],\n",
       "       [10, 10, 10, ..., 10, 10, 10],\n",
       "       [10, 10, 10, ..., 10, 10, 10],\n",
       "       ...,\n",
       "       [10, 10, 10, ..., 10, 10, 10],\n",
       "       [10, 10, 10, ..., 10, 10, 10],\n",
       "       [10, 10, 10, ..., 10, 10, 10]], dtype=uint8)</pre></div><script>\n",
       "      (() => {\n",
       "      const titles = ['show data', 'hide data'];\n",
       "      let index = 0\n",
       "      document.querySelector('#id-1bd1c05d-00e8-4206-b6c9-d88e2928520e button').onclick = (e) => {\n",
       "        document.querySelector('#id-1bd1c05d-00e8-4206-b6c9-d88e2928520e').classList.toggle('show_array');\n",
       "        index = (++index) % 2;\n",
       "        document.querySelector('#id-1bd1c05d-00e8-4206-b6c9-d88e2928520e button').textContent = titles[index];\n",
       "        e.preventDefault();\n",
       "        e.stopPropagation();\n",
       "      }\n",
       "      })();\n",
       "    </script>"
      ],
      "text/plain": [
       "array([[10, 10, 10, ..., 10, 10, 10],\n",
       "       [10, 10, 10, ..., 10, 10, 10],\n",
       "       [10, 10, 10, ..., 10, 10, 10],\n",
       "       ...,\n",
       "       [10, 10, 10, ..., 10, 10, 10],\n",
       "       [10, 10, 10, ..., 10, 10, 10],\n",
       "       [10, 10, 10, ..., 10, 10, 10]], dtype=uint8)"
      ]
     },
     "execution_count": 60,
     "metadata": {},
     "output_type": "execute_result"
    }
   ],
   "source": [
    "escala_de_grises=cv2.cvtColor(input_image,cv2.COLOR_RGB2GRAY)\n",
    "escala_de_grises"
   ]
  },
  {
   "cell_type": "code",
   "execution_count": 62,
   "metadata": {
    "id": "bHQ13vD21vgS"
   },
   "outputs": [],
   "source": [
    "input_image=cv2.resize(escala_de_grises,(28,28))"
   ]
  },
  {
   "cell_type": "code",
   "execution_count": 64,
   "metadata": {
    "colab": {
     "base_uri": "https://localhost:8080/"
    },
    "id": "naagNhlt11gC",
    "outputId": "69e36d36-3c81-499e-df0a-dfec15aadf1e"
   },
   "outputs": [
    {
     "data": {
      "text/plain": [
       "(28, 28)"
      ]
     },
     "execution_count": 64,
     "metadata": {},
     "output_type": "execute_result"
    }
   ],
   "source": [
    "input_image.shape"
   ]
  },
  {
   "cell_type": "code",
   "execution_count": 69,
   "metadata": {
    "colab": {
     "base_uri": "https://localhost:8080/",
     "height": 45
    },
    "id": "qgltpm-613NZ",
    "outputId": "ee2e56c0-a54d-424d-cc18-fe10481452e1"
   },
   "outputs": [
    {
     "data": {
      "image/png": "[encoded data removed]",
      "text/plain": [
       "<PIL.Image.Image image mode=L size=28x28>"
      ]
     },
     "metadata": {},
     "output_type": "display_data"
    }
   ],
   "source": [
    "cv2_imshow(input_image)"
   ]
  },
  {
   "cell_type": "code",
   "execution_count": 70,
   "metadata": {
    "id": "o79BwYyD2PjR"
   },
   "outputs": [],
   "source": [
    "input_image_resize=input_image/255"
   ]
  },
  {
   "cell_type": "code",
   "execution_count": 73,
   "metadata": {
    "colab": {
     "base_uri": "https://localhost:8080/"
    },
    "id": "wvAX23or2YSg",
    "outputId": "184a20e5-cbd4-4f81-e906-8bce2c260136"
   },
   "outputs": [
    {
     "data": {
      "text/plain": [
       "(1, 28, 28)"
      ]
     },
     "execution_count": 73,
     "metadata": {},
     "output_type": "execute_result"
    }
   ],
   "source": [
    "image_reshaped=np.reshape(input_image_resize,[1,28,28])\n",
    "image_reshaped.shape"
   ]
  },
  {
   "cell_type": "code",
   "execution_count": 77,
   "metadata": {
    "colab": {
     "base_uri": "https://localhost:8080/"
    },
    "id": "M_H12YP33t5s",
    "outputId": "2598a513-aa02-4aa0-cb17-287a7cde3712"
   },
   "outputs": [
    {
     "name": "stdout",
     "output_type": "stream",
     "text": [
      "1/1 [==============================] - 0s 17ms/step\n",
      "El numero es : 5 \n"
     ]
    }
   ],
   "source": [
    "prediccion=model.predict(image_reshaped).argmax()\n",
    "print(\"El numero es : {} \".format(prediccion))"
   ]
  }
 ],
 "metadata": {
  "accelerator": "GPU",
  "colab": {
   "gpuType": "T4",
   "provenance": []
  },
  "kernelspec": {
   "display_name": "Python 3",
   "name": "python3"
  },
  "language_info": {
   "codemirror_mode": {
    "name": "ipython",
    "version": 3
   },
   "file_extension": ".py",
   "mimetype": "text/x-python",
   "name": "python",
   "nbconvert_exporter": "python",
   "pygments_lexer": "ipython3",
   "version": "3.10.0"
  }
 },
 "nbformat": 4,
 "nbformat_minor": 0
}
